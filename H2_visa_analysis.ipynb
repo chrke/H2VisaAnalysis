{
 "cells": [
  {
   "cell_type": "markdown",
   "metadata": {},
   "source": [
    "# H2 visa application data analysis\n",
    "\n",
    "* Description\n",
    "* Dataset\n",
    "* Goal \n",
    "* Imports\n",
    "* Data exploration\n",
    "* Initial visualizations\n",
    "* Data cleaning\n",
    "* Visualization after the cleaning\n",
    "* Goal - How has the number of approved applications changed over time?\n",
    "* Goal - How have the number of approved workers changed over time?\n",
    "* Goal - Which locations and types of businesses request the most visas and how has this changed over time?\n",
    "* Goal - Which positions are the most frequently requested for these visas? \n",
    "\n",
    "(rest of the table of contents, to be appended in the end)\n",
    "\n",
    "## Description\n",
    "\n",
    "H2 visa applications are requests by companies to hire foreign workers for nonagricultural jobs within the United States. The U.S. Department of Labor releases this data as Excel (.XLS) files and BuzzFeed News has been tracking and hosting these datasets on Github. The dataset we’ll be working with represents H2 applications from October 1, 2010 to March 31, 2016.\n",
    "\n",
    "This is a weekly challenge done as a part of Data Science coursework on www.dataquest.io\n",
    "\n",
    "## Dataset\n",
    "\n",
    "Raw data from US Dept of Labor (XLS files):\n",
    "\n",
    "https://github.com/BuzzFeedNews/H2certificationdata/tree/master/data/raw\n",
    "\n",
    "\n",
    "Cleaned up, aggregated CSV file \n",
    "\n",
    "https://github.com/BuzzFeedNews/H2certificationdata/blob/master/data/processed/H2certificationdecisions.csv\n",
    "\n",
    "\n",
    "Read more about H2 visas and how they work:\n",
    "\n",
    "https://www.uscis.gov/workingunitedstates/temporaryworkers/h2btemporarynonagriculturalworkers\n",
    "\n",
    "#### VARIABLES used in the data - \n",
    "\n",
    " **case_no** :  The OFLC-assigned case number.\n",
    "\n",
    " **visa_type** : \"H-2A\" or \"H-2B\".\n",
    "    \n",
    " **fy** : The fiscal year of the most recent OFLC decision/progress on the case.\n",
    "    \n",
    " **last_event_date** : The date of the most recent OFLC decision/progress on the case.\n",
    "    \n",
    " **case_status** : The status of the case; typically a variation on \"CERTIFIED\", \"DENIED\", \"WITHDRAWN\", et cetera.\n",
    "\n",
    " **n_requested** : The number of workers/visas requested.\n",
    "    \n",
    " **n_certified**: The number of workers/visas certified.\n",
    "\n",
    " **is_certified**: True/False; a standardization of the case_status field.\n",
    "\n",
    " **certification_begin_date / certification_begin_date** : \"Actual date granted to an employer indicating when the need for the foreign workers to perform agricultural services or labor is expected to [begin / end].\" Unavailable for H-2B data prior to FY2007.\n",
    "\n",
    " **job_title** : The job title listed by the employer.\n",
    "\n",
    " **employer_name** : The name of the employer applying for certification; converted to all-caps.\n",
    "    \n",
    " **employer_state** : The state the employer listed.\n",
    "\n",
    " **employer_city** : The city the employer listed.\n",
    "\n",
    " **employer_address_1** : The first line of the address the employer listed.\n",
    "\n",
    " **employer_address_2** : The second line of the address the employer listed.\n",
    "    \n",
    " **employer_postal_code** : The postal code the employer listed.\n",
    "    \n",
    " **agent_name** : The name of the agent or attorney filing the application for the employer. Some years of data include multiple columns related to visa agents; the standardized field combines these fields, separating them by a :.\n",
    "\n",
    " **organization_flag** : Various types of organizations — including sole employers and joint employers — can apply for visa certifications. This field tracks OFLC's categorizations. Only available for H-2A decisions.\n",
    "    \n",
    " **is_duplicate: True/False/null** : This derived value will be True — indicating that this row corresponds a sub-application of a joint employer's \"master application\" — if (a) visa_type is \"H-2A\", (b) the organization_flag is blank, and (c) comes from fiscal year 2008 or later. H-2A data from FY 2006 and FY 2007 do not contain a organization_flag field. For these records, and H-2B records, is_duplicate will be null.\n",
    "\n",
    "## Goal\n",
    "\n",
    "To answer these questions\n",
    "\n",
    "1. How has the number of approved applications changed over time?\n",
    "\n",
    "2. How have the number of approved workers changed over time?\n",
    "\n",
    "3. Which locations and types of businesses request the most visas and how has this changed over time?\n",
    "\n",
    "4. Which positions are the most frequently requested for these visas? \n",
    "\n",
    "Bonus\n",
    "* Look for new dataset(s) to deepen your analysis. Here are some ideas:\n",
    "* What datasets can help you further segment the job_title column?\n",
    "* What datasets, if any, can help you further segment the employer_name column?"
   ]
  },
  {
   "cell_type": "markdown",
   "metadata": {},
   "source": [
    "After that -\n",
    "\n",
    "1) How has the number of applications changed over time\n",
    "\n",
    "2) How has the number of people approved changed over time\n",
    "\n",
    "3) Map of states in the beginning, map of states in the end\n",
    "\n",
    "4) Work on job titles"
   ]
  },
  {
   "cell_type": "markdown",
   "metadata": {},
   "source": [
    "## Imports "
   ]
  },
  {
   "cell_type": "code",
   "execution_count": 1,
   "metadata": {
    "collapsed": true
   },
   "outputs": [],
   "source": [
    "import warnings\n",
    "warnings.filterwarnings(\"ignore\", category=UserWarning)"
   ]
  },
  {
   "cell_type": "code",
   "execution_count": 2,
   "metadata": {
    "collapsed": true
   },
   "outputs": [],
   "source": [
    "from __future__ import division\n",
    "import numpy as np\n",
    "import pandas as pd\n",
    "import matplotlib.pyplot as plt\n",
    "%matplotlib inline\n",
    "import seaborn as sns\n",
    "import pandas_profiling"
   ]
  },
  {
   "cell_type": "markdown",
   "metadata": {},
   "source": [
    "## Data Exploration"
   ]
  },
  {
   "cell_type": "markdown",
   "metadata": {},
   "source": [
    "Reading the data"
   ]
  },
  {
   "cell_type": "code",
   "execution_count": 3,
   "metadata": {
    "collapsed": false
   },
   "outputs": [
    {
     "data": {
      "text/html": [
       "<div>\n",
       "<table border=\"1\" class=\"dataframe\">\n",
       "  <thead>\n",
       "    <tr style=\"text-align: right;\">\n",
       "      <th></th>\n",
       "      <th>case_no</th>\n",
       "      <th>visa_type</th>\n",
       "      <th>fy</th>\n",
       "      <th>last_event_date</th>\n",
       "      <th>case_status</th>\n",
       "      <th>n_requested</th>\n",
       "      <th>n_certified</th>\n",
       "      <th>is_certified</th>\n",
       "      <th>certification_begin_date</th>\n",
       "      <th>certification_end_date</th>\n",
       "      <th>...</th>\n",
       "      <th>employer_state</th>\n",
       "      <th>employer_city</th>\n",
       "      <th>employer_address_1</th>\n",
       "      <th>employer_address_2</th>\n",
       "      <th>employer_postal_code</th>\n",
       "      <th>worksite_state</th>\n",
       "      <th>worksite_city</th>\n",
       "      <th>agent_name</th>\n",
       "      <th>organization_flag</th>\n",
       "      <th>is_duplicate</th>\n",
       "    </tr>\n",
       "  </thead>\n",
       "  <tbody>\n",
       "    <tr>\n",
       "      <th>0</th>\n",
       "      <td>9455254</td>\n",
       "      <td>H-2B</td>\n",
       "      <td>2000</td>\n",
       "      <td>1999-10-01</td>\n",
       "      <td>DENIED, TEMPORARY</td>\n",
       "      <td>1</td>\n",
       "      <td>0</td>\n",
       "      <td>False</td>\n",
       "      <td>NaN</td>\n",
       "      <td>NaN</td>\n",
       "      <td>...</td>\n",
       "      <td>CA</td>\n",
       "      <td>LOS ANGELES</td>\n",
       "      <td>NaN</td>\n",
       "      <td>NaN</td>\n",
       "      <td>NaN</td>\n",
       "      <td>NaN</td>\n",
       "      <td>NaN</td>\n",
       "      <td>NaN</td>\n",
       "      <td>NaN</td>\n",
       "      <td>NaN</td>\n",
       "    </tr>\n",
       "    <tr>\n",
       "      <th>1</th>\n",
       "      <td>8222219</td>\n",
       "      <td>H-2B</td>\n",
       "      <td>2000</td>\n",
       "      <td>1999-10-04</td>\n",
       "      <td>CERTIFIED, TEMPORARY</td>\n",
       "      <td>2</td>\n",
       "      <td>2</td>\n",
       "      <td>True</td>\n",
       "      <td>NaN</td>\n",
       "      <td>NaN</td>\n",
       "      <td>...</td>\n",
       "      <td>CO</td>\n",
       "      <td>BEAVER CREEK</td>\n",
       "      <td>NaN</td>\n",
       "      <td>NaN</td>\n",
       "      <td>NaN</td>\n",
       "      <td>NaN</td>\n",
       "      <td>NaN</td>\n",
       "      <td>NaN</td>\n",
       "      <td>NaN</td>\n",
       "      <td>NaN</td>\n",
       "    </tr>\n",
       "    <tr>\n",
       "      <th>2</th>\n",
       "      <td>8222168</td>\n",
       "      <td>H-2B</td>\n",
       "      <td>2000</td>\n",
       "      <td>1999-10-04</td>\n",
       "      <td>CERTIFIED, TEMPORARY</td>\n",
       "      <td>2</td>\n",
       "      <td>2</td>\n",
       "      <td>True</td>\n",
       "      <td>NaN</td>\n",
       "      <td>NaN</td>\n",
       "      <td>...</td>\n",
       "      <td>CO</td>\n",
       "      <td>MT. CRESTED BUTTE</td>\n",
       "      <td>NaN</td>\n",
       "      <td>NaN</td>\n",
       "      <td>NaN</td>\n",
       "      <td>NaN</td>\n",
       "      <td>NaN</td>\n",
       "      <td>NaN</td>\n",
       "      <td>NaN</td>\n",
       "      <td>NaN</td>\n",
       "    </tr>\n",
       "    <tr>\n",
       "      <th>3</th>\n",
       "      <td>8222169</td>\n",
       "      <td>H-2B</td>\n",
       "      <td>2000</td>\n",
       "      <td>1999-10-04</td>\n",
       "      <td>CERTIFIED, TEMPORARY</td>\n",
       "      <td>5</td>\n",
       "      <td>5</td>\n",
       "      <td>True</td>\n",
       "      <td>NaN</td>\n",
       "      <td>NaN</td>\n",
       "      <td>...</td>\n",
       "      <td>CO</td>\n",
       "      <td>MT. CRESTED BUTTE</td>\n",
       "      <td>NaN</td>\n",
       "      <td>NaN</td>\n",
       "      <td>NaN</td>\n",
       "      <td>NaN</td>\n",
       "      <td>NaN</td>\n",
       "      <td>NaN</td>\n",
       "      <td>NaN</td>\n",
       "      <td>NaN</td>\n",
       "    </tr>\n",
       "    <tr>\n",
       "      <th>4</th>\n",
       "      <td>8222170</td>\n",
       "      <td>H-2B</td>\n",
       "      <td>2000</td>\n",
       "      <td>1999-10-04</td>\n",
       "      <td>CERTIFIED, TEMPORARY</td>\n",
       "      <td>40</td>\n",
       "      <td>40</td>\n",
       "      <td>True</td>\n",
       "      <td>NaN</td>\n",
       "      <td>NaN</td>\n",
       "      <td>...</td>\n",
       "      <td>CO</td>\n",
       "      <td>MT. CRESTED BUTTE</td>\n",
       "      <td>NaN</td>\n",
       "      <td>NaN</td>\n",
       "      <td>NaN</td>\n",
       "      <td>NaN</td>\n",
       "      <td>NaN</td>\n",
       "      <td>NaN</td>\n",
       "      <td>NaN</td>\n",
       "      <td>NaN</td>\n",
       "    </tr>\n",
       "  </tbody>\n",
       "</table>\n",
       "<p>5 rows × 22 columns</p>\n",
       "</div>"
      ],
      "text/plain": [
       "   case_no visa_type    fy last_event_date           case_status  n_requested  \\\n",
       "0  9455254      H-2B  2000      1999-10-01     DENIED, TEMPORARY            1   \n",
       "1  8222219      H-2B  2000      1999-10-04  CERTIFIED, TEMPORARY            2   \n",
       "2  8222168      H-2B  2000      1999-10-04  CERTIFIED, TEMPORARY            2   \n",
       "3  8222169      H-2B  2000      1999-10-04  CERTIFIED, TEMPORARY            5   \n",
       "4  8222170      H-2B  2000      1999-10-04  CERTIFIED, TEMPORARY           40   \n",
       "\n",
       "   n_certified is_certified certification_begin_date certification_end_date  \\\n",
       "0            0        False                      NaN                    NaN   \n",
       "1            2         True                      NaN                    NaN   \n",
       "2            2         True                      NaN                    NaN   \n",
       "3            5         True                      NaN                    NaN   \n",
       "4           40         True                      NaN                    NaN   \n",
       "\n",
       "      ...      employer_state      employer_city employer_address_1  \\\n",
       "0     ...                  CA        LOS ANGELES                NaN   \n",
       "1     ...                  CO       BEAVER CREEK                NaN   \n",
       "2     ...                  CO  MT. CRESTED BUTTE                NaN   \n",
       "3     ...                  CO  MT. CRESTED BUTTE                NaN   \n",
       "4     ...                  CO  MT. CRESTED BUTTE                NaN   \n",
       "\n",
       "  employer_address_2 employer_postal_code worksite_state worksite_city  \\\n",
       "0                NaN                  NaN            NaN           NaN   \n",
       "1                NaN                  NaN            NaN           NaN   \n",
       "2                NaN                  NaN            NaN           NaN   \n",
       "3                NaN                  NaN            NaN           NaN   \n",
       "4                NaN                  NaN            NaN           NaN   \n",
       "\n",
       "  agent_name organization_flag is_duplicate  \n",
       "0        NaN               NaN          NaN  \n",
       "1        NaN               NaN          NaN  \n",
       "2        NaN               NaN          NaN  \n",
       "3        NaN               NaN          NaN  \n",
       "4        NaN               NaN          NaN  \n",
       "\n",
       "[5 rows x 22 columns]"
      ]
     },
     "execution_count": 3,
     "metadata": {},
     "output_type": "execute_result"
    }
   ],
   "source": [
    "visa = pd.read_csv(\"H-2-certification-decisions.csv\",low_memory=False)\n",
    "visa.head()"
   ]
  },
  {
   "cell_type": "markdown",
   "metadata": {},
   "source": [
    "Checking the datatypes of all the columns"
   ]
  },
  {
   "cell_type": "code",
   "execution_count": 4,
   "metadata": {
    "collapsed": false
   },
   "outputs": [
    {
     "data": {
      "text/plain": [
       "case_no                      object\n",
       "visa_type                    object\n",
       "fy                            int64\n",
       "last_event_date              object\n",
       "case_status                  object\n",
       "n_requested                 float64\n",
       "n_certified                   int64\n",
       "is_certified                   bool\n",
       "certification_begin_date     object\n",
       "certification_end_date       object\n",
       "job_title                    object\n",
       "employer_name                object\n",
       "employer_state               object\n",
       "employer_city                object\n",
       "employer_address_1           object\n",
       "employer_address_2           object\n",
       "employer_postal_code         object\n",
       "worksite_state               object\n",
       "worksite_city                object\n",
       "agent_name                   object\n",
       "organization_flag            object\n",
       "is_duplicate                 object\n",
       "dtype: object"
      ]
     },
     "execution_count": 4,
     "metadata": {},
     "output_type": "execute_result"
    }
   ],
   "source": [
    "visa.dtypes"
   ]
  },
  {
   "cell_type": "markdown",
   "metadata": {},
   "source": [
    "Checking each column to see how much percentage of each column has null values. This is to determine which columns would be more significant for analysis and which columns are to be left out"
   ]
  },
  {
   "cell_type": "code",
   "execution_count": 5,
   "metadata": {
    "collapsed": false
   },
   "outputs": [
    {
     "data": {
      "text/plain": [
       "case_no % null :                       0.000\n",
       "visa_type % null :                     0.000\n",
       "fy % null :                            0.000\n",
       "case_status % null :                   0.000\n",
       "n_certified % null :                   0.000\n",
       "is_certified % null :                  0.000\n",
       "employer_name % null :                 0.010\n",
       "employer_city % null :                 0.037\n",
       "employer_state % null :                0.059\n",
       "job_title % null :                     0.227\n",
       "last_event_date % null :               3.504\n",
       "employer_address_1 % null :           20.619\n",
       "employer_postal_code % null :         20.772\n",
       "agent_name % null :                   26.845\n",
       "certification_begin_date % null :     27.118\n",
       "certification_end_date % null :       27.123\n",
       "worksite_state % null :               29.589\n",
       "n_requested % null :                  33.611\n",
       "worksite_city % null :                61.540\n",
       "is_duplicate % null :                 64.681\n",
       "organization_flag % null :            77.893\n",
       "employer_address_2 % null :           89.868\n",
       "dtype: float64"
      ]
     },
     "execution_count": 5,
     "metadata": {},
     "output_type": "execute_result"
    }
   ],
   "source": [
    "ind = []\n",
    "val = []\n",
    "for col in visa.columns:\n",
    "    ind.append(col + \" % null : \")\n",
    "    try: \n",
    "        value = (pd.isnull(visa[col]).value_counts()[True]/visa.shape[0])*100\n",
    "    except:\n",
    "        value = 0\n",
    "    val.append(round(value,3))\n",
    "    \n",
    "null_table = pd.Series(val,index=ind)\n",
    "null_table.sort_values()"
   ]
  },
  {
   "cell_type": "markdown",
   "metadata": {},
   "source": [
    "Checking the summary statistics of columns with integer values"
   ]
  },
  {
   "cell_type": "code",
   "execution_count": 6,
   "metadata": {
    "collapsed": false
   },
   "outputs": [
    {
     "data": {
      "text/html": [
       "<div>\n",
       "<table border=\"1\" class=\"dataframe\">\n",
       "  <thead>\n",
       "    <tr style=\"text-align: right;\">\n",
       "      <th></th>\n",
       "      <th>fy</th>\n",
       "      <th>n_requested</th>\n",
       "      <th>n_certified</th>\n",
       "      <th>is_certified</th>\n",
       "    </tr>\n",
       "  </thead>\n",
       "  <tbody>\n",
       "    <tr>\n",
       "      <th>count</th>\n",
       "      <td>213155.000000</td>\n",
       "      <td>141512.000000</td>\n",
       "      <td>213155.000000</td>\n",
       "      <td>213155</td>\n",
       "    </tr>\n",
       "    <tr>\n",
       "      <th>mean</th>\n",
       "      <td>2008.956998</td>\n",
       "      <td>18.916516</td>\n",
       "      <td>16.053646</td>\n",
       "      <td>0.873585</td>\n",
       "    </tr>\n",
       "    <tr>\n",
       "      <th>std</th>\n",
       "      <td>4.375681</td>\n",
       "      <td>42.546266</td>\n",
       "      <td>39.135363</td>\n",
       "      <td>0.332317</td>\n",
       "    </tr>\n",
       "    <tr>\n",
       "      <th>min</th>\n",
       "      <td>2000.000000</td>\n",
       "      <td>0.000000</td>\n",
       "      <td>0.000000</td>\n",
       "      <td>False</td>\n",
       "    </tr>\n",
       "    <tr>\n",
       "      <th>25%</th>\n",
       "      <td>2006.000000</td>\n",
       "      <td>3.000000</td>\n",
       "      <td>2.000000</td>\n",
       "      <td>1</td>\n",
       "    </tr>\n",
       "    <tr>\n",
       "      <th>50%</th>\n",
       "      <td>2009.000000</td>\n",
       "      <td>8.000000</td>\n",
       "      <td>6.000000</td>\n",
       "      <td>1</td>\n",
       "    </tr>\n",
       "    <tr>\n",
       "      <th>75%</th>\n",
       "      <td>2013.000000</td>\n",
       "      <td>19.000000</td>\n",
       "      <td>15.000000</td>\n",
       "      <td>1</td>\n",
       "    </tr>\n",
       "    <tr>\n",
       "      <th>max</th>\n",
       "      <td>2016.000000</td>\n",
       "      <td>1866.000000</td>\n",
       "      <td>1866.000000</td>\n",
       "      <td>True</td>\n",
       "    </tr>\n",
       "  </tbody>\n",
       "</table>\n",
       "</div>"
      ],
      "text/plain": [
       "                  fy    n_requested    n_certified is_certified\n",
       "count  213155.000000  141512.000000  213155.000000       213155\n",
       "mean     2008.956998      18.916516      16.053646     0.873585\n",
       "std         4.375681      42.546266      39.135363     0.332317\n",
       "min      2000.000000       0.000000       0.000000        False\n",
       "25%      2006.000000       3.000000       2.000000            1\n",
       "50%      2009.000000       8.000000       6.000000            1\n",
       "75%      2013.000000      19.000000      15.000000            1\n",
       "max      2016.000000    1866.000000    1866.000000         True"
      ]
     },
     "execution_count": 6,
     "metadata": {},
     "output_type": "execute_result"
    }
   ],
   "source": [
    "visa.describe()"
   ]
  },
  {
   "cell_type": "markdown",
   "metadata": {},
   "source": [
    "#### Exploring the Case status column\n",
    "\n",
    "Let's explore the case_status column in order to find a way to better classify them"
   ]
  },
  {
   "cell_type": "code",
   "execution_count": 7,
   "metadata": {
    "collapsed": false
   },
   "outputs": [
    {
     "data": {
      "text/plain": [
       "CERTIFIED - FULL                                        57044\n",
       "CERTIFIED                                               42671\n",
       "CERTIFIED, TEMPORARY                                    36788\n",
       "DETERMINATION ISSUED - CERTIFICATION                    18977\n",
       "CERTIFICATION                                           17195\n",
       "DENIED                                                  13684\n",
       "PARTIAL CERTIFIED                                        8514\n",
       "DENIED, TEMPORARY                                        5817\n",
       "WITHDRAWN                                                3189\n",
       "CERTIFIED - PARTIAL                                      3120\n",
       "PARTIAL CERTIFICATION                                    2089\n",
       "RECEIVED REGIONAL OFFICE                                  980\n",
       "DETERMINATION ISSUED - CERTIFICATION EXPIRED              954\n",
       "DETERMINATION ISSUED - DENIED                             366\n",
       "CERTIFICATION EXPIRED                                     355\n",
       "DETERMINATION ISSUED - WITHDRAWN                          346\n",
       "INCOMPLETE                                                320\n",
       "DETERMINATION ISSUED - PARTIAL CERTIFICATION              308\n",
       "RECEIVED                                                  110\n",
       "PARTIAL CERTIFICATION EXPIRED                              84\n",
       "REMAND TO SWA                                              55\n",
       "REMAND ISSUED TO EMPLOYER                                  53\n",
       "MODIFICATION                                               48\n",
       "DETERMINATION ISSUED - PARTIAL CERTIFICATION EXPIRED       41\n",
       "REMAND ISSUED TO STATE                                     33\n",
       "REDUCTION IN RECRUITMENT DENIED                             4\n",
       "FINAL REVIEW                                                3\n",
       "DATA REVIEW                                                 3\n",
       "RETURNED BY EMP AFTER REMAND                                2\n",
       "NOF ISSUED                                                  2\n",
       "Name: case_status, dtype: int64"
      ]
     },
     "execution_count": 7,
     "metadata": {},
     "output_type": "execute_result"
    }
   ],
   "source": [
    "visa[\"case_status\"].value_counts()"
   ]
  },
  {
   "cell_type": "code",
   "execution_count": 9,
   "metadata": {
    "collapsed": false
   },
   "outputs": [
    {
     "data": {
      "text/html": [
       "<div>\n",
       "<table border=\"1\" class=\"dataframe\">\n",
       "  <thead>\n",
       "    <tr style=\"text-align: right;\">\n",
       "      <th>is_certified</th>\n",
       "      <th>False</th>\n",
       "      <th>True</th>\n",
       "    </tr>\n",
       "    <tr>\n",
       "      <th>case_status</th>\n",
       "      <th></th>\n",
       "      <th></th>\n",
       "    </tr>\n",
       "  </thead>\n",
       "  <tbody>\n",
       "    <tr>\n",
       "      <th>CERTIFICATION</th>\n",
       "      <td>35</td>\n",
       "      <td>17160</td>\n",
       "    </tr>\n",
       "    <tr>\n",
       "      <th>CERTIFICATION EXPIRED</th>\n",
       "      <td>NaN</td>\n",
       "      <td>355</td>\n",
       "    </tr>\n",
       "    <tr>\n",
       "      <th>CERTIFIED</th>\n",
       "      <td>1</td>\n",
       "      <td>42670</td>\n",
       "    </tr>\n",
       "    <tr>\n",
       "      <th>CERTIFIED - FULL</th>\n",
       "      <td>1743</td>\n",
       "      <td>55301</td>\n",
       "    </tr>\n",
       "    <tr>\n",
       "      <th>CERTIFIED - PARTIAL</th>\n",
       "      <td>61</td>\n",
       "      <td>3059</td>\n",
       "    </tr>\n",
       "    <tr>\n",
       "      <th>CERTIFIED, TEMPORARY</th>\n",
       "      <td>2</td>\n",
       "      <td>36786</td>\n",
       "    </tr>\n",
       "    <tr>\n",
       "      <th>DATA REVIEW</th>\n",
       "      <td>3</td>\n",
       "      <td>NaN</td>\n",
       "    </tr>\n",
       "    <tr>\n",
       "      <th>DENIED</th>\n",
       "      <td>13684</td>\n",
       "      <td>NaN</td>\n",
       "    </tr>\n",
       "    <tr>\n",
       "      <th>DENIED, TEMPORARY</th>\n",
       "      <td>5817</td>\n",
       "      <td>NaN</td>\n",
       "    </tr>\n",
       "    <tr>\n",
       "      <th>DETERMINATION ISSUED - CERTIFICATION</th>\n",
       "      <td>81</td>\n",
       "      <td>18896</td>\n",
       "    </tr>\n",
       "    <tr>\n",
       "      <th>DETERMINATION ISSUED - CERTIFICATION EXPIRED</th>\n",
       "      <td>6</td>\n",
       "      <td>948</td>\n",
       "    </tr>\n",
       "    <tr>\n",
       "      <th>DETERMINATION ISSUED - DENIED</th>\n",
       "      <td>366</td>\n",
       "      <td>NaN</td>\n",
       "    </tr>\n",
       "    <tr>\n",
       "      <th>DETERMINATION ISSUED - PARTIAL CERTIFICATION</th>\n",
       "      <td>2</td>\n",
       "      <td>306</td>\n",
       "    </tr>\n",
       "    <tr>\n",
       "      <th>DETERMINATION ISSUED - PARTIAL CERTIFICATION EXPIRED</th>\n",
       "      <td>NaN</td>\n",
       "      <td>41</td>\n",
       "    </tr>\n",
       "    <tr>\n",
       "      <th>DETERMINATION ISSUED - WITHDRAWN</th>\n",
       "      <td>346</td>\n",
       "      <td>NaN</td>\n",
       "    </tr>\n",
       "    <tr>\n",
       "      <th>FINAL REVIEW</th>\n",
       "      <td>3</td>\n",
       "      <td>NaN</td>\n",
       "    </tr>\n",
       "    <tr>\n",
       "      <th>INCOMPLETE</th>\n",
       "      <td>320</td>\n",
       "      <td>NaN</td>\n",
       "    </tr>\n",
       "    <tr>\n",
       "      <th>MODIFICATION</th>\n",
       "      <td>48</td>\n",
       "      <td>NaN</td>\n",
       "    </tr>\n",
       "    <tr>\n",
       "      <th>NOF ISSUED</th>\n",
       "      <td>2</td>\n",
       "      <td>NaN</td>\n",
       "    </tr>\n",
       "    <tr>\n",
       "      <th>PARTIAL CERTIFICATION</th>\n",
       "      <td>NaN</td>\n",
       "      <td>2089</td>\n",
       "    </tr>\n",
       "    <tr>\n",
       "      <th>PARTIAL CERTIFICATION EXPIRED</th>\n",
       "      <td>NaN</td>\n",
       "      <td>84</td>\n",
       "    </tr>\n",
       "    <tr>\n",
       "      <th>PARTIAL CERTIFIED</th>\n",
       "      <td>NaN</td>\n",
       "      <td>8514</td>\n",
       "    </tr>\n",
       "    <tr>\n",
       "      <th>RECEIVED</th>\n",
       "      <td>110</td>\n",
       "      <td>NaN</td>\n",
       "    </tr>\n",
       "    <tr>\n",
       "      <th>RECEIVED REGIONAL OFFICE</th>\n",
       "      <td>980</td>\n",
       "      <td>NaN</td>\n",
       "    </tr>\n",
       "    <tr>\n",
       "      <th>REDUCTION IN RECRUITMENT DENIED</th>\n",
       "      <td>4</td>\n",
       "      <td>NaN</td>\n",
       "    </tr>\n",
       "    <tr>\n",
       "      <th>REMAND ISSUED TO EMPLOYER</th>\n",
       "      <td>53</td>\n",
       "      <td>NaN</td>\n",
       "    </tr>\n",
       "    <tr>\n",
       "      <th>REMAND ISSUED TO STATE</th>\n",
       "      <td>33</td>\n",
       "      <td>NaN</td>\n",
       "    </tr>\n",
       "    <tr>\n",
       "      <th>REMAND TO SWA</th>\n",
       "      <td>55</td>\n",
       "      <td>NaN</td>\n",
       "    </tr>\n",
       "    <tr>\n",
       "      <th>RETURNED BY EMP AFTER REMAND</th>\n",
       "      <td>2</td>\n",
       "      <td>NaN</td>\n",
       "    </tr>\n",
       "    <tr>\n",
       "      <th>WITHDRAWN</th>\n",
       "      <td>3189</td>\n",
       "      <td>NaN</td>\n",
       "    </tr>\n",
       "  </tbody>\n",
       "</table>\n",
       "</div>"
      ],
      "text/plain": [
       "is_certified                                        False  True \n",
       "case_status                                                     \n",
       "CERTIFICATION                                          35  17160\n",
       "CERTIFICATION EXPIRED                                 NaN    355\n",
       "CERTIFIED                                               1  42670\n",
       "CERTIFIED - FULL                                     1743  55301\n",
       "CERTIFIED - PARTIAL                                    61   3059\n",
       "CERTIFIED, TEMPORARY                                    2  36786\n",
       "DATA REVIEW                                             3    NaN\n",
       "DENIED                                              13684    NaN\n",
       "DENIED, TEMPORARY                                    5817    NaN\n",
       "DETERMINATION ISSUED - CERTIFICATION                   81  18896\n",
       "DETERMINATION ISSUED - CERTIFICATION EXPIRED            6    948\n",
       "DETERMINATION ISSUED - DENIED                         366    NaN\n",
       "DETERMINATION ISSUED - PARTIAL CERTIFICATION            2    306\n",
       "DETERMINATION ISSUED - PARTIAL CERTIFICATION EX...    NaN     41\n",
       "DETERMINATION ISSUED - WITHDRAWN                      346    NaN\n",
       "FINAL REVIEW                                            3    NaN\n",
       "INCOMPLETE                                            320    NaN\n",
       "MODIFICATION                                           48    NaN\n",
       "NOF ISSUED                                              2    NaN\n",
       "PARTIAL CERTIFICATION                                 NaN   2089\n",
       "PARTIAL CERTIFICATION EXPIRED                         NaN     84\n",
       "PARTIAL CERTIFIED                                     NaN   8514\n",
       "RECEIVED                                              110    NaN\n",
       "RECEIVED REGIONAL OFFICE                              980    NaN\n",
       "REDUCTION IN RECRUITMENT DENIED                         4    NaN\n",
       "REMAND ISSUED TO EMPLOYER                              53    NaN\n",
       "REMAND ISSUED TO STATE                                 33    NaN\n",
       "REMAND TO SWA                                          55    NaN\n",
       "RETURNED BY EMP AFTER REMAND                            2    NaN\n",
       "WITHDRAWN                                            3189    NaN"
      ]
     },
     "execution_count": 9,
     "metadata": {},
     "output_type": "execute_result"
    }
   ],
   "source": [
    "# making a pivot table with \"is_certified\" and \"case_status\" columns to understand the columns better\n",
    "\n",
    "new = visa[[\"case_status\",\"is_certified\"]]\n",
    "new.loc[:,\"count\"] = 1\n",
    "new.pivot_table(values=\"count\",aggfunc=np.sum,index=\"case_status\",columns=\"is_certified\")"
   ]
  },
  {
   "cell_type": "code",
   "execution_count": 10,
   "metadata": {
    "collapsed": false
   },
   "outputs": [],
   "source": [
    "# making a map in order to map similar original columns to a single final column\n",
    "\n",
    "statusmap = pd.Series(index=visa[\"case_status\"].value_counts().index)\n",
    "\n",
    "# Marking these columns as certified since most of these rows have \"is_certified\" marked True\n",
    "statusmap.loc[\"CERTIFIED - FULL\"] = \"CERTIFIED\"\n",
    "statusmap.loc[\"CERTIFIED\"] = \"CERTIFIED\"\n",
    "statusmap.loc[\"CERTIFICATION\"] = \"CERTIFIED\"\n",
    "statusmap.loc[\"DETERMINATION ISSUED - CERTIFICATION\"] = \"CERTIFIED\"\n",
    "statusmap.loc[\"CERTIFIED, TEMPORARY\"] = \"CERTIFIED\"\n",
    "\n",
    "#Marking these columns as certification expired (although most of the below columns have \"is_certified\" marked True\n",
    "statusmap.loc[\"CERTIFICATION EXPIRED\"] = \"CERTIFICATION EXPIRED\"\n",
    "statusmap.loc[\"DETERMINATION ISSUED - CERTIFICATION EXPIRED\"] = \"CERTIFICATION EXPIRED\"\n",
    "statusmap.loc[\"DETERMINATION ISSUED - PARTIAL CERTIFICATION EXPIRED\"] = \"CERTIFICATION EXPIRED\"\n",
    "statusmap.loc[\"PARTIAL CERTIFICATION EXPIRED\"]  = \"CERTIFICATION EXPIRED\"\n",
    "\n",
    "# Marking these columns as partially certified. Most of them have \"is_certified\" marked True\n",
    "statusmap.loc[\"CERTIFIED - PARTIAL\"] = \"PARTIALLY CERTIFIED\"\n",
    "statusmap.loc[\"DETERMINATION ISSUED - PARTIAL CERTIFICATION\"] = \"PARTIALLY CERTIFIED\"\n",
    "statusmap.loc[\"PARTIAL CERTIFICATION\"] = \"PARTIALLY CERTIFIED\" \n",
    "statusmap.loc[\"PARTIAL CERTIFIED\"] = \"PARTIALLY CERTIFIED\"\n",
    "\n",
    "# Marking these columns as denied. Almost all of these columns are marked with \"is_certified\" = False\n",
    "statusmap.loc[\"DENIED\"] = \"DENIED\"\n",
    "statusmap.loc[\"DENIED, TEMPORARY\"] = \"DENIED\"\n",
    "statusmap.loc[\"DETERMINATION ISSUED - DENIED\"] = \"DENIED\"\n",
    "\n",
    "\n",
    "# Marking these columns as withdrawn. All of them have \"is_certified\" marked False\n",
    "statusmap.loc[\"DETERMINATION ISSUED - WITHDRAWN\"] = \"WITHDRAWN\"\n",
    "statusmap.loc[\"WITHDRAWN\"] = \"WITHDRAWN\"\n",
    "\n",
    "# Marking these columns as other/not certified. All of them have \"is_certified\" marked False\n",
    "statusmap.loc[\"FINAL REVIEW\"] = \"OTHER/NOT CERTIFIED\"\n",
    "statusmap.loc[\"INCOMPLETE\"] = \"OTHER/NOT CERTIFIED\"\n",
    "statusmap.loc[\"DATA REVIEW\"] = \"OTHER/NOT CERTIFIED\"\n",
    "statusmap.loc[\"MODIFICATION\"] = \"OTHER/NOT CERTIFIED\"\n",
    "statusmap.loc[\"NOF ISSUED\"] = \"OTHER/NOT CERTIFIED\"\n",
    "statusmap.loc[\"RECEIVED\"] = \"OTHER/NOT CERTIFIED\"\n",
    "statusmap.loc[\"RECEIVED REGIONAL OFFICE\"] = \"OTHER/NOT CERTIFIED\"\n",
    "statusmap.loc[\"REDUCTION IN RECRUITMENT DENIED\"] = \"OTHER/NOT CERTIFIED\"\n",
    "statusmap.loc[\"REMAND ISSUED TO EMPLOYER\"] = \"OTHER/NOT CERTIFIED\"\n",
    "statusmap.loc[\"REMAND ISSUED TO STATE\"] = \"OTHER/NOT CERTIFIED\"\n",
    "statusmap.loc[\"REMAND TO SWA\"] = \"OTHER/NOT CERTIFIED\"\n",
    "statusmap.loc[\"RETURNED BY EMP AFTER REMAND\"] = \"OTHER/NOT CERTIFIED\""
   ]
  },
  {
   "cell_type": "code",
   "execution_count": 11,
   "metadata": {
    "collapsed": true
   },
   "outputs": [],
   "source": [
    "# mapping these columns in order to change the existing status to the new status\n",
    "\n",
    "visa[\"case_status\"] = visa[\"case_status\"].map(statusmap)"
   ]
  },
  {
   "cell_type": "markdown",
   "metadata": {},
   "source": [
    "Now the data much more organized and condensed for better analysis"
   ]
  },
  {
   "cell_type": "code",
   "execution_count": 12,
   "metadata": {
    "collapsed": false
   },
   "outputs": [
    {
     "data": {
      "text/plain": [
       "CERTIFIED                172675\n",
       "DENIED                    19867\n",
       "PARTIALLY CERTIFIED       14031\n",
       "WITHDRAWN                  3535\n",
       "OTHER/NOT CERTIFIED        1613\n",
       "CERTIFICATION EXPIRED      1434\n",
       "Name: case_status, dtype: int64"
      ]
     },
     "execution_count": 12,
     "metadata": {},
     "output_type": "execute_result"
    }
   ],
   "source": [
    "visa[\"case_status\"].value_counts()"
   ]
  },
  {
   "cell_type": "markdown",
   "metadata": {},
   "source": [
    "After the initial data exploration, we can plot of a few graphs to better understand the data at hand\n",
    "\n",
    "Please note : This is WITHOUT cleaning the data "
   ]
  },
  {
   "cell_type": "markdown",
   "metadata": {},
   "source": [
    "## Initial Visualizations"
   ]
  },
  {
   "cell_type": "code",
   "execution_count": 13,
   "metadata": {
    "collapsed": false
   },
   "outputs": [
    {
     "data": {
      "text/plain": [
       "<matplotlib.axes._subplots.AxesSubplot at 0x2459eda0>"
      ]
     },
     "execution_count": 13,
     "metadata": {},
     "output_type": "execute_result"
    },
    {
     "data": {
      "image/png": "[encoded data removed]",
      "text/plain": [
       "<matplotlib.figure.Figure at 0x21046588>"
      ]
     },
     "metadata": {},
     "output_type": "display_data"
    }
   ],
   "source": [
    "fig = plt.figure(figsize=(10,10))\n",
    "\n",
    "# plotting the visa_type column distribution\n",
    "ax1 = fig.add_subplot(2,2,1)\n",
    "visa[\"visa_type\"].value_counts().plot(kind='bar',title=\"Visa types\",color='dodgerblue')\n",
    "\n",
    "# plotting the fiscal year column distribution\n",
    "ax2 = fig.add_subplot(2,2,2)\n",
    "visa[\"fy\"].hist(color='orchid',bins=8)\n",
    "plt.title(\"Fiscal year histogram\")\n",
    "\n",
    "# plotting the organization flag column distribution\n",
    "ax3 = fig.add_subplot(2,2,3)\n",
    "visa[\"organization_flag\"].value_counts().plot(kind='bar',title=\"Organization Flags\",color='coral')\n",
    "\n",
    "# plotting the case status column distribution\n",
    "ax4 = fig.add_subplot(2,2,4)\n",
    "visa[\"case_status\"].value_counts().plot(kind='bar',title=\"Case statuses\",color='mediumseagreen')"
   ]
  },
  {
   "cell_type": "code",
   "execution_count": 14,
   "metadata": {
    "collapsed": false
   },
   "outputs": [
    {
     "data": {
      "text/plain": [
       "<matplotlib.text.Text at 0x24c7dd68>"
      ]
     },
     "execution_count": 14,
     "metadata": {},
     "output_type": "execute_result"
    },
    {
     "data": {
      "image/png": "[encoded data removed]",
      "text/plain": [
       "<matplotlib.figure.Figure at 0x21046198>"
      ]
     },
     "metadata": {},
     "output_type": "display_data"
    }
   ],
   "source": [
    "fig = plt.figure(figsize=(15,5))\n",
    "\n",
    "# making a scatterplot to understand the n_requested column\n",
    "ax1 = fig.add_subplot(1,2,1)\n",
    "plt.scatter(x=visa[\"n_requested\"].index,y=visa[\"n_requested\"].values,color='coral')\n",
    "plt.title(\"People requested per application scatter plot\")\n",
    "\n",
    "# making a scatterplot of the n_certified column\n",
    "ax2 = fig.add_subplot(1,2,2)\n",
    "plt.scatter(x=visa[\"n_certified\"].index,y=visa[\"n_certified\"].values,color='coral')\n",
    "plt.title(\"People certified per application scatter plot\")"
   ]
  },
  {
   "cell_type": "markdown",
   "metadata": {},
   "source": [
    "We can see from above that two significant chunks of data are missing from the 'People requested per application' scatter plot.\n",
    "\n",
    "But it seems to have a similar pattern to the 'People certified per application' scatterplot "
   ]
  },
  {
   "cell_type": "markdown",
   "metadata": {},
   "source": [
    "## Data cleaning"
   ]
  },
  {
   "cell_type": "code",
   "execution_count": 15,
   "metadata": {
    "collapsed": false
   },
   "outputs": [
    {
     "name": "stdout",
     "output_type": "stream",
     "text": [
      "Number of duplicate rows removed\n",
      "152\n"
     ]
    }
   ],
   "source": [
    "# removing duplicates\n",
    "\n",
    "# First removing duplicate rows using drop_duplicates function\n",
    "visa_uni = visa.drop_duplicates()\n",
    "print(\"Number of duplicate rows removed\")\n",
    "print(visa.duplicated().value_counts()[True])"
   ]
  },
  {
   "cell_type": "code",
   "execution_count": 16,
   "metadata": {
    "collapsed": false
   },
   "outputs": [
    {
     "name": "stdout",
     "output_type": "stream",
     "text": [
      "Number of rows being removed\n",
      "28025\n"
     ]
    }
   ],
   "source": [
    "# removing rows where the column \"is_duplicate\" is marked as True\n",
    "# The is_duplicate column value will be True — indicating that this row corresponds a sub-application of a joint employer's \n",
    "# \"master application\"\n",
    "\n",
    "print(\"Number of rows being removed\")\n",
    "print(visa_uni[visa_uni[\"is_duplicate\"] == True].shape[0])\n",
    "\n",
    "visa_uni = visa_uni[visa_uni[\"is_duplicate\"] != True]"
   ]
  },
  {
   "cell_type": "markdown",
   "metadata": {},
   "source": [
    "## Visualizations after the cleaning"
   ]
  },
  {
   "cell_type": "code",
   "execution_count": 17,
   "metadata": {
    "collapsed": false
   },
   "outputs": [
    {
     "data": {
      "text/plain": [
       "<matplotlib.legend.Legend at 0x217a1320>"
      ]
     },
     "execution_count": 17,
     "metadata": {},
     "output_type": "execute_result"
    },
    {
     "data": {
      "image/png": "[encoded data removed]",
      "text/plain": [
       "<matplotlib.figure.Figure at 0x24dc1e80>"
      ]
     },
     "metadata": {},
     "output_type": "display_data"
    }
   ],
   "source": [
    "fig = plt.figure(figsize=(10,10))\n",
    "\n",
    "# visa_type column \n",
    "ax1 = fig.add_subplot(2,2,1)\n",
    "locs_1 = np.arange(2)\n",
    "off_1 = locs_1 + 0.35\n",
    "ax1.bar(left=locs_1,height=visa[\"visa_type\"].value_counts().tolist(),color='mediumslateblue',width=0.35)\n",
    "ax1.bar(left=off_1,height=visa_uni[\"visa_type\"].value_counts().tolist(),color='dodgerblue',width=0.35)\n",
    "ax1.set_xticklabels(visa[\"visa_type\"].value_counts().index.tolist())\n",
    "ax1.set_xticks(off_1)\n",
    "plt.legend((\"Before Cleaning\",\"After Cleaning\"))\n",
    "plt.title(\"Visa_types\")\n",
    "#visa[\"visa_type\"].value_counts().plot(kind='bar',title=\"Visa types\",color='mediumslateblue',alpha=0.5)\n",
    "#visa_uni[\"visa_type\"].value_counts().plot(kind='bar',title=\"Visa types\",color='dodgerblue',alpha=0.5)\n",
    "\n",
    "# fiscal year column\n",
    "ax2 = fig.add_subplot(2,2,2)\n",
    "visa[\"fy\"].hist(color='yellow',bins=8,alpha=0.4)\n",
    "visa_uni[\"fy\"].hist(color='orchid',bins=8,alpha=0.4)\n",
    "plt.title(\"Fiscal year histogram\")\n",
    "plt.legend((\"Before Cleaning\",\"After Cleaning\"))\n",
    "\n",
    "# organization flag column\n",
    "ax3 = fig.add_subplot(2,2,3)\n",
    "visa[\"organization_flag\"].value_counts().plot(kind='bar',title=\"Organization Flags\",color='crimson',alpha=0.5)\n",
    "visa_uni[\"organization_flag\"].value_counts().plot(kind='bar',title=\"Organization Flags\",color='yellow',alpha=0.5)\n",
    "plt.legend((\"Before Cleaning\",\"After Cleaning\"))\n",
    "\n",
    "# case status column\n",
    "ax4 = fig.add_subplot(2,2,4)\n",
    "visa[\"case_status\"].value_counts().plot(kind='bar',title=\"Case statuses\",color='deepskyblue',alpha=0.5)\n",
    "visa_uni[\"case_status\"].value_counts().plot(kind='bar',title=\"Case statuses\",color='mediumseagreen',alpha=0.5)\n",
    "plt.legend((\"Before Cleaning\",\"After Cleaning\"))"
   ]
  },
  {
   "cell_type": "markdown",
   "metadata": {},
   "source": [
    "As we can see, there are a few changes in the graphs after the data has been cleaned\n",
    "\n",
    "There are NO changes in the Organization Flags plot"
   ]
  },
  {
   "cell_type": "markdown",
   "metadata": {},
   "source": [
    "## Goal - How has the number of approved applications changed over time?"
   ]
  },
  {
   "cell_type": "code",
   "execution_count": null,
   "metadata": {
    "collapsed": false
   },
   "outputs": [],
   "source": [
    "# making a pivot table to get case_status, fiscal year distribution\n",
    "visa_uni.loc[:,\"case_count\"] = 1\n",
    "year_status = visa_uni.pivot_table(values=\"case_count\",index=\"case_status\",columns=\"fy\",aggfunc=np.sum)\n",
    "year_status"
   ]
  },
  {
   "cell_type": "markdown",
   "metadata": {},
   "source": [
    "As we can see above, a lot of values are missing/unavailable/zero, especially for years 2000-2007\n",
    "\n",
    "So we will now plot certified applications from 2006 on"
   ]
  },
  {
   "cell_type": "code",
   "execution_count": null,
   "metadata": {
    "collapsed": false
   },
   "outputs": [],
   "source": [
    "print(year_status.index)\n",
    "print(year_status.columns)"
   ]
  },
  {
   "cell_type": "markdown",
   "metadata": {},
   "source": [
    "#### Plotting different application statuses over time "
   ]
  },
  {
   "cell_type": "code",
   "execution_count": null,
   "metadata": {
    "collapsed": false
   },
   "outputs": [],
   "source": [
    "fig = plt.figure(figsize=(8,5))\n",
    "ax = fig.add_subplot(1,1,1)\n",
    "ax.set_xticks(year_status.columns)\n",
    "ax.set_xlabel(\"Year\")\n",
    "ax.plot(year_status.loc['CERTIFIED',2006:],linewidth=2)\n",
    "ax.plot(year_status.loc['DENIED',2006:],linewidth=2)\n",
    "ax.plot(year_status.loc['PARTIALLY CERTIFIED',2006:],linewidth=2)\n",
    "ax.plot(year_status.loc['WITHDRAWN',2006:],linewidth=2)\n",
    "plt.legend()\n",
    "plt.title(\"Application statuses over the years\",fontsize=15)"
   ]
  },
  {
   "cell_type": "markdown",
   "metadata": {},
   "source": [
    "Clearly the number of certified applications over the years has shown a decreasing trend in general\n",
    "\n",
    "The number of denied applications seem to be more of less the same over the years, which seems to the case with partial certified and withdrawn applications as well\n",
    "\n",
    "Withdrawn applications seem to have a slight rise in 2016"
   ]
  },
  {
   "cell_type": "markdown",
   "metadata": {},
   "source": [
    "#### Plotting different application statuses over time hued over the visa_type"
   ]
  },
  {
   "cell_type": "code",
   "execution_count": null,
   "metadata": {
    "collapsed": false
   },
   "outputs": [],
   "source": [
    "# singling out h2-a and h2b visas separately that are certified\n",
    "h2a_certified = visa_uni[(visa_uni[\"visa_type\"] == \"H-2A\") & (visa_uni[\"case_status\"] == \"CERTIFIED\")][\"fy\"].value_counts()\n",
    "h2b_certified = visa_uni[(visa_uni[\"visa_type\"] == \"H-2B\") & (visa_uni[\"case_status\"] == \"CERTIFIED\")][\"fy\"].value_counts()\n",
    "h2a_certified = h2a_certified.sort_index()\n",
    "h2b_certified = h2b_certified.sort_index()\n",
    "\n",
    "# singling out h2-a and h2b visas separately that are denied\n",
    "h2a_denied = visa_uni[(visa_uni[\"visa_type\"] == \"H-2A\") & (visa_uni[\"case_status\"] == \"DENIED\")][\"fy\"].value_counts()\n",
    "h2b_denied = visa_uni[(visa_uni[\"visa_type\"] == \"H-2B\") & (visa_uni[\"case_status\"] == \"DENIED\")][\"fy\"].value_counts()\n",
    "h2a_denied = h2a_denied.sort_index()\n",
    "h2b_denied = h2b_denied.sort_index()\n",
    "\n",
    "fig = plt.figure(figsize = (15,5))\n",
    "\n",
    "# plotting certified applications graph\n",
    "ax1 = fig.add_subplot(1,2,1)\n",
    "ax1.set_xticks(range(2006,2017))\n",
    "# plotting the numbers from year 2006 on, to keep it uniform since h2_b data has a 2001 row\n",
    "ax1.plot(h2a_certified,label=\"H2-A\",color='indigo',linewidth=2)\n",
    "ax1.plot(h2b_certified.loc[2006:],label=\"H2-B\",color='salmon',linewidth=2)\n",
    "plt.legend()\n",
    "plt.title(\"Certified applications over the years hued by visa type\",fontsize=15)\n",
    "\n",
    "# plotting the denied applications graph\n",
    "ax2 = fig.add_subplot(1,2,2)\n",
    "ax2.set_xticks(range(2006,2017))\n",
    "ax2.plot(h2a_denied,label=\"H2-A\",color='indigo',linewidth=2)\n",
    "ax2.plot(h2b_denied.loc[2006:],label=\"H2-B\",color='salmon',linewidth=2)\n",
    "plt.legend()\n",
    "plt.title(\"Denied applications over the years hued by visa type\",fontsize=15)\n"
   ]
  },
  {
   "cell_type": "markdown",
   "metadata": {},
   "source": [
    "As we can see, when we hue the certified applications by visa type, it shows a slight different trend for each visa type\n",
    "\n",
    "But the general trend remains the same, which is decreasing over the years."
   ]
  },
  {
   "cell_type": "markdown",
   "metadata": {},
   "source": [
    "The denied applications, on the other hand seems to follow an interesting trend.\n",
    "\n",
    "For H2-A applications, the trend seems to be more or less the same over the years\n",
    "For H2-B applications, there seems to be a drastic decline after 2007 and from 2011 until 2016, it seems to be more or less constant.\n",
    "\n",
    "Also, its worth noticing that the number of declined applications seems to be converging for both application types as time goes by and the gap between them has bridged considerably"
   ]
  },
  {
   "cell_type": "code",
   "execution_count": null,
   "metadata": {
    "collapsed": false
   },
   "outputs": [],
   "source": []
  },
  {
   "cell_type": "code",
   "execution_count": null,
   "metadata": {
    "collapsed": true
   },
   "outputs": [],
   "source": []
  }
 ],
 "metadata": {
  "kernelspec": {
   "display_name": "Python 2",
   "language": "python",
   "name": "python2"
  },
  "language_info": {
   "codemirror_mode": {
    "name": "ipython",
    "version": 2
   },
   "file_extension": ".py",
   "mimetype": "text/x-python",
   "name": "python",
   "nbconvert_exporter": "python",
   "pygments_lexer": "ipython2",
   "version": "2.7.11"
  }
 },
 "nbformat": 4,
 "nbformat_minor": 0
}
