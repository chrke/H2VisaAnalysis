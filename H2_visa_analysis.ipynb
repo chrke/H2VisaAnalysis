{
 "cells": [
  {
   "cell_type": "markdown",
   "metadata": {},
   "source": [
    "# H2 visa application data analysis\n",
    "\n",
    "* Description\n",
    "* Dataset\n",
    "* Goal \n",
    "* Imports\n",
    "* Data exploration\n",
    "* Initial visualizations\n",
    "* Data cleaning\n",
    "* Visualization after the cleaning\n",
    "* Goal - How has the number of approved applications changed over time?\n",
    "* Goal - How have the number of approved workers changed over time?\n",
    "* Goal - Which locations and types of businesses request the most visas and how has this changed over time?\n",
    "* Goal - Which positions are the most frequently requested for these visas? \n",
    "* Goal - Is there a correlation between the length of the period the employee is expected to work for and the final decision?\n",
    "\n",
    "\n",
    "## Description\n",
    "\n",
    "H2 visa applications are requests by companies to hire foreign workers for nonagricultural jobs within the United States. The U.S. Department of Labor releases this data as Excel (.XLS) files and BuzzFeed News has been tracking and hosting these datasets on Github. The dataset we’ll be working with represents H2 applications from October 1, 2010 to March 31, 2016.\n",
    "\n",
    "This is a weekly challenge done as a part of Data Science coursework on www.dataquest.io\n",
    "\n",
    "## Dataset\n",
    "\n",
    "Raw data from US Dept of Labor (XLS files):\n",
    "\n",
    "https://github.com/BuzzFeedNews/H2certificationdata/tree/master/data/raw\n",
    "\n",
    "\n",
    "Cleaned up, aggregated CSV file \n",
    "\n",
    "https://github.com/BuzzFeedNews/H2certificationdata/blob/master/data/processed/H2certificationdecisions.csv\n",
    "\n",
    "\n",
    "Read more about H2 visas and how they work:\n",
    "\n",
    "https://www.uscis.gov/workingunitedstates/temporaryworkers/h2btemporarynonagriculturalworkers\n",
    "\n",
    "#### VARIABLES used in the data - \n",
    "\n",
    " **case_no** :  The OFLC-assigned case number.\n",
    "\n",
    " **visa_type** : \"H-2A\" or \"H-2B\".\n",
    "    \n",
    " **fy** : The fiscal year of the most recent OFLC decision/progress on the case.\n",
    "    \n",
    " **last_event_date** : The date of the most recent OFLC decision/progress on the case.\n",
    "    \n",
    " **case_status** : The status of the case; typically a variation on \"CERTIFIED\", \"DENIED\", \"WITHDRAWN\", et cetera.\n",
    "\n",
    " **n_requested** : The number of workers/visas requested.\n",
    "    \n",
    " **n_certified**: The number of workers/visas certified.\n",
    "\n",
    " **is_certified**: True/False; a standardization of the case_status field.\n",
    "\n",
    " **certification_begin_date / certification_end_date** : \"Actual date granted to an employer indicating when the need for the foreign workers to perform agricultural services or labor is expected to [begin / end].\" Unavailable for H-2B data prior to FY2007.\n",
    "\n",
    " **job_title** : The job title listed by the employer.\n",
    "\n",
    " **employer_name** : The name of the employer applying for certification; converted to all-caps.\n",
    "    \n",
    " **employer_state** : The state the employer listed.\n",
    "\n",
    " **employer_city** : The city the employer listed.\n",
    "\n",
    " **employer_address_1** : The first line of the address the employer listed.\n",
    "\n",
    " **employer_address_2** : The second line of the address the employer listed.\n",
    "    \n",
    " **employer_postal_code** : The postal code the employer listed.\n",
    "    \n",
    " **agent_name** : The name of the agent or attorney filing the application for the employer. Some years of data include multiple columns related to visa agents; the standardized field combines these fields, separating them by a :.\n",
    "\n",
    " **organization_flag** : Various types of organizations — including sole employers and joint employers — can apply for visa certifications. This field tracks OFLC's categorizations. Only available for H-2A decisions.\n",
    "    \n",
    " **is_duplicate: True/False/null** : This derived value will be True — indicating that this row corresponds a sub-application of a joint employer's \"master application\" — if (a) visa_type is \"H-2A\", (b) the organization_flag is blank, and (c) comes from fiscal year 2008 or later. H-2A data from FY 2006 and FY 2007 do not contain a organization_flag field. For these records, and H-2B records, is_duplicate will be null.\n",
    "\n",
    "## Goal\n",
    "\n",
    "To answer these questions\n",
    "\n",
    "1. How has the number of approved applications changed over time?\n",
    "\n",
    "2. How have the number of approved workers changed over time?\n",
    "\n",
    "3. Which locations and types of businesses request the most visas and how has this changed over time?\n",
    "\n",
    "4. Which positions are the most frequently requested for these visas? \n",
    "\n",
    "5. Is there a correlation between the length of the period the employee is expected to work for and the final decision?"
   ]
  },
  {
   "cell_type": "markdown",
   "metadata": {},
   "source": [
    "## Imports "
   ]
  },
  {
   "cell_type": "code",
   "execution_count": 1,
   "metadata": {
    "collapsed": false
   },
   "outputs": [],
   "source": [
    "import warnings\n",
    "warnings.filterwarnings(\"ignore\", category=UserWarning)"
   ]
  },
  {
   "cell_type": "code",
   "execution_count": 2,
   "metadata": {
    "collapsed": false
   },
   "outputs": [],
   "source": [
    "from __future__ import division\n",
    "import numpy as np\n",
    "import pandas as pd\n",
    "pd.options.mode.chained_assignment = None\n",
    "import matplotlib.pyplot as plt\n",
    "import seaborn as sns\n",
    "%matplotlib inline"
   ]
  },
  {
   "cell_type": "markdown",
   "metadata": {},
   "source": [
    "## Data Exploration"
   ]
  },
  {
   "cell_type": "markdown",
   "metadata": {},
   "source": [
    "Reading the data"
   ]
  },
  {
   "cell_type": "code",
   "execution_count": 3,
   "metadata": {
    "collapsed": false
   },
   "outputs": [
    {
     "data": {
      "text/html": [
       "<div>\n",
       "<table border=\"1\" class=\"dataframe\">\n",
       "  <thead>\n",
       "    <tr style=\"text-align: right;\">\n",
       "      <th></th>\n",
       "      <th>case_no</th>\n",
       "      <th>visa_type</th>\n",
       "      <th>fy</th>\n",
       "      <th>last_event_date</th>\n",
       "      <th>case_status</th>\n",
       "      <th>n_requested</th>\n",
       "      <th>n_certified</th>\n",
       "      <th>is_certified</th>\n",
       "      <th>certification_begin_date</th>\n",
       "      <th>certification_end_date</th>\n",
       "      <th>...</th>\n",
       "      <th>employer_state</th>\n",
       "      <th>employer_city</th>\n",
       "      <th>employer_address_1</th>\n",
       "      <th>employer_address_2</th>\n",
       "      <th>employer_postal_code</th>\n",
       "      <th>worksite_state</th>\n",
       "      <th>worksite_city</th>\n",
       "      <th>agent_name</th>\n",
       "      <th>organization_flag</th>\n",
       "      <th>is_duplicate</th>\n",
       "    </tr>\n",
       "  </thead>\n",
       "  <tbody>\n",
       "    <tr>\n",
       "      <th>0</th>\n",
       "      <td>9455254</td>\n",
       "      <td>H-2B</td>\n",
       "      <td>2000</td>\n",
       "      <td>1999-10-01</td>\n",
       "      <td>DENIED, TEMPORARY</td>\n",
       "      <td>1</td>\n",
       "      <td>0</td>\n",
       "      <td>False</td>\n",
       "      <td>NaN</td>\n",
       "      <td>NaN</td>\n",
       "      <td>...</td>\n",
       "      <td>CA</td>\n",
       "      <td>LOS ANGELES</td>\n",
       "      <td>NaN</td>\n",
       "      <td>NaN</td>\n",
       "      <td>NaN</td>\n",
       "      <td>NaN</td>\n",
       "      <td>NaN</td>\n",
       "      <td>NaN</td>\n",
       "      <td>NaN</td>\n",
       "      <td>NaN</td>\n",
       "    </tr>\n",
       "    <tr>\n",
       "      <th>1</th>\n",
       "      <td>8222219</td>\n",
       "      <td>H-2B</td>\n",
       "      <td>2000</td>\n",
       "      <td>1999-10-04</td>\n",
       "      <td>CERTIFIED, TEMPORARY</td>\n",
       "      <td>2</td>\n",
       "      <td>2</td>\n",
       "      <td>True</td>\n",
       "      <td>NaN</td>\n",
       "      <td>NaN</td>\n",
       "      <td>...</td>\n",
       "      <td>CO</td>\n",
       "      <td>BEAVER CREEK</td>\n",
       "      <td>NaN</td>\n",
       "      <td>NaN</td>\n",
       "      <td>NaN</td>\n",
       "      <td>NaN</td>\n",
       "      <td>NaN</td>\n",
       "      <td>NaN</td>\n",
       "      <td>NaN</td>\n",
       "      <td>NaN</td>\n",
       "    </tr>\n",
       "    <tr>\n",
       "      <th>2</th>\n",
       "      <td>8222168</td>\n",
       "      <td>H-2B</td>\n",
       "      <td>2000</td>\n",
       "      <td>1999-10-04</td>\n",
       "      <td>CERTIFIED, TEMPORARY</td>\n",
       "      <td>2</td>\n",
       "      <td>2</td>\n",
       "      <td>True</td>\n",
       "      <td>NaN</td>\n",
       "      <td>NaN</td>\n",
       "      <td>...</td>\n",
       "      <td>CO</td>\n",
       "      <td>MT. CRESTED BUTTE</td>\n",
       "      <td>NaN</td>\n",
       "      <td>NaN</td>\n",
       "      <td>NaN</td>\n",
       "      <td>NaN</td>\n",
       "      <td>NaN</td>\n",
       "      <td>NaN</td>\n",
       "      <td>NaN</td>\n",
       "      <td>NaN</td>\n",
       "    </tr>\n",
       "    <tr>\n",
       "      <th>3</th>\n",
       "      <td>8222169</td>\n",
       "      <td>H-2B</td>\n",
       "      <td>2000</td>\n",
       "      <td>1999-10-04</td>\n",
       "      <td>CERTIFIED, TEMPORARY</td>\n",
       "      <td>5</td>\n",
       "      <td>5</td>\n",
       "      <td>True</td>\n",
       "      <td>NaN</td>\n",
       "      <td>NaN</td>\n",
       "      <td>...</td>\n",
       "      <td>CO</td>\n",
       "      <td>MT. CRESTED BUTTE</td>\n",
       "      <td>NaN</td>\n",
       "      <td>NaN</td>\n",
       "      <td>NaN</td>\n",
       "      <td>NaN</td>\n",
       "      <td>NaN</td>\n",
       "      <td>NaN</td>\n",
       "      <td>NaN</td>\n",
       "      <td>NaN</td>\n",
       "    </tr>\n",
       "    <tr>\n",
       "      <th>4</th>\n",
       "      <td>8222170</td>\n",
       "      <td>H-2B</td>\n",
       "      <td>2000</td>\n",
       "      <td>1999-10-04</td>\n",
       "      <td>CERTIFIED, TEMPORARY</td>\n",
       "      <td>40</td>\n",
       "      <td>40</td>\n",
       "      <td>True</td>\n",
       "      <td>NaN</td>\n",
       "      <td>NaN</td>\n",
       "      <td>...</td>\n",
       "      <td>CO</td>\n",
       "      <td>MT. CRESTED BUTTE</td>\n",
       "      <td>NaN</td>\n",
       "      <td>NaN</td>\n",
       "      <td>NaN</td>\n",
       "      <td>NaN</td>\n",
       "      <td>NaN</td>\n",
       "      <td>NaN</td>\n",
       "      <td>NaN</td>\n",
       "      <td>NaN</td>\n",
       "    </tr>\n",
       "  </tbody>\n",
       "</table>\n",
       "<p>5 rows × 22 columns</p>\n",
       "</div>"
      ],
      "text/plain": [
       "   case_no visa_type    fy last_event_date           case_status  n_requested  \\\n",
       "0  9455254      H-2B  2000      1999-10-01     DENIED, TEMPORARY            1   \n",
       "1  8222219      H-2B  2000      1999-10-04  CERTIFIED, TEMPORARY            2   \n",
       "2  8222168      H-2B  2000      1999-10-04  CERTIFIED, TEMPORARY            2   \n",
       "3  8222169      H-2B  2000      1999-10-04  CERTIFIED, TEMPORARY            5   \n",
       "4  8222170      H-2B  2000      1999-10-04  CERTIFIED, TEMPORARY           40   \n",
       "\n",
       "   n_certified is_certified certification_begin_date certification_end_date  \\\n",
       "0            0        False                      NaN                    NaN   \n",
       "1            2         True                      NaN                    NaN   \n",
       "2            2         True                      NaN                    NaN   \n",
       "3            5         True                      NaN                    NaN   \n",
       "4           40         True                      NaN                    NaN   \n",
       "\n",
       "      ...      employer_state      employer_city employer_address_1  \\\n",
       "0     ...                  CA        LOS ANGELES                NaN   \n",
       "1     ...                  CO       BEAVER CREEK                NaN   \n",
       "2     ...                  CO  MT. CRESTED BUTTE                NaN   \n",
       "3     ...                  CO  MT. CRESTED BUTTE                NaN   \n",
       "4     ...                  CO  MT. CRESTED BUTTE                NaN   \n",
       "\n",
       "  employer_address_2 employer_postal_code worksite_state worksite_city  \\\n",
       "0                NaN                  NaN            NaN           NaN   \n",
       "1                NaN                  NaN            NaN           NaN   \n",
       "2                NaN                  NaN            NaN           NaN   \n",
       "3                NaN                  NaN            NaN           NaN   \n",
       "4                NaN                  NaN            NaN           NaN   \n",
       "\n",
       "  agent_name organization_flag is_duplicate  \n",
       "0        NaN               NaN          NaN  \n",
       "1        NaN               NaN          NaN  \n",
       "2        NaN               NaN          NaN  \n",
       "3        NaN               NaN          NaN  \n",
       "4        NaN               NaN          NaN  \n",
       "\n",
       "[5 rows x 22 columns]"
      ]
     },
     "execution_count": 3,
     "metadata": {},
     "output_type": "execute_result"
    }
   ],
   "source": [
    "visa = pd.read_csv(\"H-2-certification-decisions.csv\",low_memory=False)\n",
    "visa.head()"
   ]
  },
  {
   "cell_type": "markdown",
   "metadata": {},
   "source": [
    "Checking the datatypes of all the columns"
   ]
  },
  {
   "cell_type": "code",
   "execution_count": 4,
   "metadata": {
    "collapsed": false
   },
   "outputs": [
    {
     "data": {
      "text/plain": [
       "case_no                      object\n",
       "visa_type                    object\n",
       "fy                            int64\n",
       "last_event_date              object\n",
       "case_status                  object\n",
       "n_requested                 float64\n",
       "n_certified                   int64\n",
       "is_certified                   bool\n",
       "certification_begin_date     object\n",
       "certification_end_date       object\n",
       "job_title                    object\n",
       "employer_name                object\n",
       "employer_state               object\n",
       "employer_city                object\n",
       "employer_address_1           object\n",
       "employer_address_2           object\n",
       "employer_postal_code         object\n",
       "worksite_state               object\n",
       "worksite_city                object\n",
       "agent_name                   object\n",
       "organization_flag            object\n",
       "is_duplicate                 object\n",
       "dtype: object"
      ]
     },
     "execution_count": 4,
     "metadata": {},
     "output_type": "execute_result"
    }
   ],
   "source": [
    "visa.dtypes"
   ]
  },
  {
   "cell_type": "markdown",
   "metadata": {},
   "source": [
    "Checking each column to see how much percentage of each column has null values. This is to determine which columns would be more significant for analysis and which columns are to be left out"
   ]
  },
  {
   "cell_type": "code",
   "execution_count": 5,
   "metadata": {
    "collapsed": false
   },
   "outputs": [
    {
     "data": {
      "text/plain": [
       "case_no % null :                       0.000\n",
       "visa_type % null :                     0.000\n",
       "fy % null :                            0.000\n",
       "case_status % null :                   0.000\n",
       "n_certified % null :                   0.000\n",
       "is_certified % null :                  0.000\n",
       "employer_name % null :                 0.010\n",
       "employer_city % null :                 0.037\n",
       "employer_state % null :                0.059\n",
       "job_title % null :                     0.227\n",
       "last_event_date % null :               3.504\n",
       "employer_address_1 % null :           20.619\n",
       "employer_postal_code % null :         20.772\n",
       "agent_name % null :                   26.845\n",
       "certification_begin_date % null :     27.118\n",
       "certification_end_date % null :       27.123\n",
       "worksite_state % null :               29.589\n",
       "n_requested % null :                  33.611\n",
       "worksite_city % null :                61.540\n",
       "is_duplicate % null :                 64.681\n",
       "organization_flag % null :            77.893\n",
       "employer_address_2 % null :           89.868\n",
       "dtype: float64"
      ]
     },
     "execution_count": 5,
     "metadata": {},
     "output_type": "execute_result"
    }
   ],
   "source": [
    "ind = []\n",
    "val = []\n",
    "for col in visa.columns:\n",
    "    ind.append(col + \" % null : \")\n",
    "    try: \n",
    "        value = (pd.isnull(visa[col]).value_counts()[True]/visa.shape[0])*100\n",
    "    except:\n",
    "        value = 0\n",
    "    val.append(round(value,3))\n",
    "    \n",
    "null_table = pd.Series(val,index=ind)\n",
    "null_table.sort_values()"
   ]
  },
  {
   "cell_type": "markdown",
   "metadata": {},
   "source": [
    "Checking the summary statistics of columns with integer values"
   ]
  },
  {
   "cell_type": "code",
   "execution_count": 6,
   "metadata": {
    "collapsed": false
   },
   "outputs": [
    {
     "data": {
      "text/html": [
       "<div>\n",
       "<table border=\"1\" class=\"dataframe\">\n",
       "  <thead>\n",
       "    <tr style=\"text-align: right;\">\n",
       "      <th></th>\n",
       "      <th>fy</th>\n",
       "      <th>n_requested</th>\n",
       "      <th>n_certified</th>\n",
       "      <th>is_certified</th>\n",
       "    </tr>\n",
       "  </thead>\n",
       "  <tbody>\n",
       "    <tr>\n",
       "      <th>count</th>\n",
       "      <td>213155.000000</td>\n",
       "      <td>141512.000000</td>\n",
       "      <td>213155.000000</td>\n",
       "      <td>213155</td>\n",
       "    </tr>\n",
       "    <tr>\n",
       "      <th>mean</th>\n",
       "      <td>2008.956998</td>\n",
       "      <td>18.916516</td>\n",
       "      <td>16.053646</td>\n",
       "      <td>0.873585</td>\n",
       "    </tr>\n",
       "    <tr>\n",
       "      <th>std</th>\n",
       "      <td>4.375681</td>\n",
       "      <td>42.546266</td>\n",
       "      <td>39.135363</td>\n",
       "      <td>0.332317</td>\n",
       "    </tr>\n",
       "    <tr>\n",
       "      <th>min</th>\n",
       "      <td>2000.000000</td>\n",
       "      <td>0.000000</td>\n",
       "      <td>0.000000</td>\n",
       "      <td>False</td>\n",
       "    </tr>\n",
       "    <tr>\n",
       "      <th>25%</th>\n",
       "      <td>2006.000000</td>\n",
       "      <td>3.000000</td>\n",
       "      <td>2.000000</td>\n",
       "      <td>1</td>\n",
       "    </tr>\n",
       "    <tr>\n",
       "      <th>50%</th>\n",
       "      <td>2009.000000</td>\n",
       "      <td>8.000000</td>\n",
       "      <td>6.000000</td>\n",
       "      <td>1</td>\n",
       "    </tr>\n",
       "    <tr>\n",
       "      <th>75%</th>\n",
       "      <td>2013.000000</td>\n",
       "      <td>19.000000</td>\n",
       "      <td>15.000000</td>\n",
       "      <td>1</td>\n",
       "    </tr>\n",
       "    <tr>\n",
       "      <th>max</th>\n",
       "      <td>2016.000000</td>\n",
       "      <td>1866.000000</td>\n",
       "      <td>1866.000000</td>\n",
       "      <td>True</td>\n",
       "    </tr>\n",
       "  </tbody>\n",
       "</table>\n",
       "</div>"
      ],
      "text/plain": [
       "                  fy    n_requested    n_certified is_certified\n",
       "count  213155.000000  141512.000000  213155.000000       213155\n",
       "mean     2008.956998      18.916516      16.053646     0.873585\n",
       "std         4.375681      42.546266      39.135363     0.332317\n",
       "min      2000.000000       0.000000       0.000000        False\n",
       "25%      2006.000000       3.000000       2.000000            1\n",
       "50%      2009.000000       8.000000       6.000000            1\n",
       "75%      2013.000000      19.000000      15.000000            1\n",
       "max      2016.000000    1866.000000    1866.000000         True"
      ]
     },
     "execution_count": 6,
     "metadata": {},
     "output_type": "execute_result"
    }
   ],
   "source": [
    "visa.describe()"
   ]
  },
  {
   "cell_type": "markdown",
   "metadata": {},
   "source": [
    "#### Exploring the Case status column\n",
    "\n",
    "Let's explore the case_status column in order to find a way to better classify them"
   ]
  },
  {
   "cell_type": "code",
   "execution_count": 7,
   "metadata": {
    "collapsed": false
   },
   "outputs": [
    {
     "data": {
      "text/plain": [
       "CERTIFIED - FULL                                        57044\n",
       "CERTIFIED                                               42671\n",
       "CERTIFIED, TEMPORARY                                    36788\n",
       "DETERMINATION ISSUED - CERTIFICATION                    18977\n",
       "CERTIFICATION                                           17195\n",
       "DENIED                                                  13684\n",
       "PARTIAL CERTIFIED                                        8514\n",
       "DENIED, TEMPORARY                                        5817\n",
       "WITHDRAWN                                                3189\n",
       "CERTIFIED - PARTIAL                                      3120\n",
       "PARTIAL CERTIFICATION                                    2089\n",
       "RECEIVED REGIONAL OFFICE                                  980\n",
       "DETERMINATION ISSUED - CERTIFICATION EXPIRED              954\n",
       "DETERMINATION ISSUED - DENIED                             366\n",
       "CERTIFICATION EXPIRED                                     355\n",
       "DETERMINATION ISSUED - WITHDRAWN                          346\n",
       "INCOMPLETE                                                320\n",
       "DETERMINATION ISSUED - PARTIAL CERTIFICATION              308\n",
       "RECEIVED                                                  110\n",
       "PARTIAL CERTIFICATION EXPIRED                              84\n",
       "REMAND TO SWA                                              55\n",
       "REMAND ISSUED TO EMPLOYER                                  53\n",
       "MODIFICATION                                               48\n",
       "DETERMINATION ISSUED - PARTIAL CERTIFICATION EXPIRED       41\n",
       "REMAND ISSUED TO STATE                                     33\n",
       "REDUCTION IN RECRUITMENT DENIED                             4\n",
       "FINAL REVIEW                                                3\n",
       "DATA REVIEW                                                 3\n",
       "RETURNED BY EMP AFTER REMAND                                2\n",
       "NOF ISSUED                                                  2\n",
       "Name: case_status, dtype: int64"
      ]
     },
     "execution_count": 7,
     "metadata": {},
     "output_type": "execute_result"
    }
   ],
   "source": [
    "visa[\"case_status\"].value_counts()"
   ]
  },
  {
   "cell_type": "code",
   "execution_count": 8,
   "metadata": {
    "collapsed": false
   },
   "outputs": [
    {
     "data": {
      "text/html": [
       "<div>\n",
       "<table border=\"1\" class=\"dataframe\">\n",
       "  <thead>\n",
       "    <tr style=\"text-align: right;\">\n",
       "      <th>is_certified</th>\n",
       "      <th>False</th>\n",
       "      <th>True</th>\n",
       "    </tr>\n",
       "    <tr>\n",
       "      <th>case_status</th>\n",
       "      <th></th>\n",
       "      <th></th>\n",
       "    </tr>\n",
       "  </thead>\n",
       "  <tbody>\n",
       "    <tr>\n",
       "      <th>CERTIFICATION</th>\n",
       "      <td>35</td>\n",
       "      <td>17160</td>\n",
       "    </tr>\n",
       "    <tr>\n",
       "      <th>CERTIFICATION EXPIRED</th>\n",
       "      <td>NaN</td>\n",
       "      <td>355</td>\n",
       "    </tr>\n",
       "    <tr>\n",
       "      <th>CERTIFIED</th>\n",
       "      <td>1</td>\n",
       "      <td>42670</td>\n",
       "    </tr>\n",
       "    <tr>\n",
       "      <th>CERTIFIED - FULL</th>\n",
       "      <td>1743</td>\n",
       "      <td>55301</td>\n",
       "    </tr>\n",
       "    <tr>\n",
       "      <th>CERTIFIED - PARTIAL</th>\n",
       "      <td>61</td>\n",
       "      <td>3059</td>\n",
       "    </tr>\n",
       "    <tr>\n",
       "      <th>CERTIFIED, TEMPORARY</th>\n",
       "      <td>2</td>\n",
       "      <td>36786</td>\n",
       "    </tr>\n",
       "    <tr>\n",
       "      <th>DATA REVIEW</th>\n",
       "      <td>3</td>\n",
       "      <td>NaN</td>\n",
       "    </tr>\n",
       "    <tr>\n",
       "      <th>DENIED</th>\n",
       "      <td>13684</td>\n",
       "      <td>NaN</td>\n",
       "    </tr>\n",
       "    <tr>\n",
       "      <th>DENIED, TEMPORARY</th>\n",
       "      <td>5817</td>\n",
       "      <td>NaN</td>\n",
       "    </tr>\n",
       "    <tr>\n",
       "      <th>DETERMINATION ISSUED - CERTIFICATION</th>\n",
       "      <td>81</td>\n",
       "      <td>18896</td>\n",
       "    </tr>\n",
       "    <tr>\n",
       "      <th>DETERMINATION ISSUED - CERTIFICATION EXPIRED</th>\n",
       "      <td>6</td>\n",
       "      <td>948</td>\n",
       "    </tr>\n",
       "    <tr>\n",
       "      <th>DETERMINATION ISSUED - DENIED</th>\n",
       "      <td>366</td>\n",
       "      <td>NaN</td>\n",
       "    </tr>\n",
       "    <tr>\n",
       "      <th>DETERMINATION ISSUED - PARTIAL CERTIFICATION</th>\n",
       "      <td>2</td>\n",
       "      <td>306</td>\n",
       "    </tr>\n",
       "    <tr>\n",
       "      <th>DETERMINATION ISSUED - PARTIAL CERTIFICATION EXPIRED</th>\n",
       "      <td>NaN</td>\n",
       "      <td>41</td>\n",
       "    </tr>\n",
       "    <tr>\n",
       "      <th>DETERMINATION ISSUED - WITHDRAWN</th>\n",
       "      <td>346</td>\n",
       "      <td>NaN</td>\n",
       "    </tr>\n",
       "    <tr>\n",
       "      <th>FINAL REVIEW</th>\n",
       "      <td>3</td>\n",
       "      <td>NaN</td>\n",
       "    </tr>\n",
       "    <tr>\n",
       "      <th>INCOMPLETE</th>\n",
       "      <td>320</td>\n",
       "      <td>NaN</td>\n",
       "    </tr>\n",
       "    <tr>\n",
       "      <th>MODIFICATION</th>\n",
       "      <td>48</td>\n",
       "      <td>NaN</td>\n",
       "    </tr>\n",
       "    <tr>\n",
       "      <th>NOF ISSUED</th>\n",
       "      <td>2</td>\n",
       "      <td>NaN</td>\n",
       "    </tr>\n",
       "    <tr>\n",
       "      <th>PARTIAL CERTIFICATION</th>\n",
       "      <td>NaN</td>\n",
       "      <td>2089</td>\n",
       "    </tr>\n",
       "    <tr>\n",
       "      <th>PARTIAL CERTIFICATION EXPIRED</th>\n",
       "      <td>NaN</td>\n",
       "      <td>84</td>\n",
       "    </tr>\n",
       "    <tr>\n",
       "      <th>PARTIAL CERTIFIED</th>\n",
       "      <td>NaN</td>\n",
       "      <td>8514</td>\n",
       "    </tr>\n",
       "    <tr>\n",
       "      <th>RECEIVED</th>\n",
       "      <td>110</td>\n",
       "      <td>NaN</td>\n",
       "    </tr>\n",
       "    <tr>\n",
       "      <th>RECEIVED REGIONAL OFFICE</th>\n",
       "      <td>980</td>\n",
       "      <td>NaN</td>\n",
       "    </tr>\n",
       "    <tr>\n",
       "      <th>REDUCTION IN RECRUITMENT DENIED</th>\n",
       "      <td>4</td>\n",
       "      <td>NaN</td>\n",
       "    </tr>\n",
       "    <tr>\n",
       "      <th>REMAND ISSUED TO EMPLOYER</th>\n",
       "      <td>53</td>\n",
       "      <td>NaN</td>\n",
       "    </tr>\n",
       "    <tr>\n",
       "      <th>REMAND ISSUED TO STATE</th>\n",
       "      <td>33</td>\n",
       "      <td>NaN</td>\n",
       "    </tr>\n",
       "    <tr>\n",
       "      <th>REMAND TO SWA</th>\n",
       "      <td>55</td>\n",
       "      <td>NaN</td>\n",
       "    </tr>\n",
       "    <tr>\n",
       "      <th>RETURNED BY EMP AFTER REMAND</th>\n",
       "      <td>2</td>\n",
       "      <td>NaN</td>\n",
       "    </tr>\n",
       "    <tr>\n",
       "      <th>WITHDRAWN</th>\n",
       "      <td>3189</td>\n",
       "      <td>NaN</td>\n",
       "    </tr>\n",
       "  </tbody>\n",
       "</table>\n",
       "</div>"
      ],
      "text/plain": [
       "is_certified                                        False  True \n",
       "case_status                                                     \n",
       "CERTIFICATION                                          35  17160\n",
       "CERTIFICATION EXPIRED                                 NaN    355\n",
       "CERTIFIED                                               1  42670\n",
       "CERTIFIED - FULL                                     1743  55301\n",
       "CERTIFIED - PARTIAL                                    61   3059\n",
       "CERTIFIED, TEMPORARY                                    2  36786\n",
       "DATA REVIEW                                             3    NaN\n",
       "DENIED                                              13684    NaN\n",
       "DENIED, TEMPORARY                                    5817    NaN\n",
       "DETERMINATION ISSUED - CERTIFICATION                   81  18896\n",
       "DETERMINATION ISSUED - CERTIFICATION EXPIRED            6    948\n",
       "DETERMINATION ISSUED - DENIED                         366    NaN\n",
       "DETERMINATION ISSUED - PARTIAL CERTIFICATION            2    306\n",
       "DETERMINATION ISSUED - PARTIAL CERTIFICATION EX...    NaN     41\n",
       "DETERMINATION ISSUED - WITHDRAWN                      346    NaN\n",
       "FINAL REVIEW                                            3    NaN\n",
       "INCOMPLETE                                            320    NaN\n",
       "MODIFICATION                                           48    NaN\n",
       "NOF ISSUED                                              2    NaN\n",
       "PARTIAL CERTIFICATION                                 NaN   2089\n",
       "PARTIAL CERTIFICATION EXPIRED                         NaN     84\n",
       "PARTIAL CERTIFIED                                     NaN   8514\n",
       "RECEIVED                                              110    NaN\n",
       "RECEIVED REGIONAL OFFICE                              980    NaN\n",
       "REDUCTION IN RECRUITMENT DENIED                         4    NaN\n",
       "REMAND ISSUED TO EMPLOYER                              53    NaN\n",
       "REMAND ISSUED TO STATE                                 33    NaN\n",
       "REMAND TO SWA                                          55    NaN\n",
       "RETURNED BY EMP AFTER REMAND                            2    NaN\n",
       "WITHDRAWN                                            3189    NaN"
      ]
     },
     "execution_count": 8,
     "metadata": {},
     "output_type": "execute_result"
    }
   ],
   "source": [
    "# making a pivot table with \"is_certified\" and \"case_status\" columns to understand the columns better\n",
    "\n",
    "new = visa[[\"case_status\",\"is_certified\"]]\n",
    "new.loc[:,\"count\"] = 1\n",
    "new.pivot_table(values=\"count\",aggfunc=np.sum,index=\"case_status\",columns=\"is_certified\")"
   ]
  },
  {
   "cell_type": "code",
   "execution_count": 9,
   "metadata": {
    "collapsed": false
   },
   "outputs": [],
   "source": [
    "# making a map in order to map similar original columns to a single final column\n",
    "\n",
    "statusmap = pd.Series(index=visa[\"case_status\"].value_counts().index)\n",
    "\n",
    "# Marking these columns as certified since most of these rows have \"is_certified\" marked True\n",
    "statusmap.loc[\"CERTIFIED - FULL\"] = \"CERTIFIED\"\n",
    "statusmap.loc[\"CERTIFIED\"] = \"CERTIFIED\"\n",
    "statusmap.loc[\"CERTIFICATION\"] = \"CERTIFIED\"\n",
    "statusmap.loc[\"DETERMINATION ISSUED - CERTIFICATION\"] = \"CERTIFIED\"\n",
    "statusmap.loc[\"CERTIFIED, TEMPORARY\"] = \"CERTIFIED\"\n",
    "\n",
    "#Marking these columns as certification expired (although most of the below columns have \"is_certified\" marked True\n",
    "statusmap.loc[\"CERTIFICATION EXPIRED\"] = \"CERTIFICATION EXPIRED\"\n",
    "statusmap.loc[\"DETERMINATION ISSUED - CERTIFICATION EXPIRED\"] = \"CERTIFICATION EXPIRED\"\n",
    "statusmap.loc[\"DETERMINATION ISSUED - PARTIAL CERTIFICATION EXPIRED\"] = \"CERTIFICATION EXPIRED\"\n",
    "statusmap.loc[\"PARTIAL CERTIFICATION EXPIRED\"]  = \"CERTIFICATION EXPIRED\"\n",
    "\n",
    "# Marking these columns as partially certified. Most of them have \"is_certified\" marked True\n",
    "statusmap.loc[\"CERTIFIED - PARTIAL\"] = \"PARTIALLY CERTIFIED\"\n",
    "statusmap.loc[\"DETERMINATION ISSUED - PARTIAL CERTIFICATION\"] = \"PARTIALLY CERTIFIED\"\n",
    "statusmap.loc[\"PARTIAL CERTIFICATION\"] = \"PARTIALLY CERTIFIED\" \n",
    "statusmap.loc[\"PARTIAL CERTIFIED\"] = \"PARTIALLY CERTIFIED\"\n",
    "\n",
    "# Marking these columns as denied. Almost all of these columns are marked with \"is_certified\" = False\n",
    "statusmap.loc[\"DENIED\"] = \"DENIED\"\n",
    "statusmap.loc[\"DENIED, TEMPORARY\"] = \"DENIED\"\n",
    "statusmap.loc[\"DETERMINATION ISSUED - DENIED\"] = \"DENIED\"\n",
    "\n",
    "\n",
    "# Marking these columns as withdrawn. All of them have \"is_certified\" marked False\n",
    "statusmap.loc[\"DETERMINATION ISSUED - WITHDRAWN\"] = \"WITHDRAWN\"\n",
    "statusmap.loc[\"WITHDRAWN\"] = \"WITHDRAWN\"\n",
    "\n",
    "# Marking these columns as other/not certified. All of them have \"is_certified\" marked False\n",
    "statusmap.loc[\"FINAL REVIEW\"] = \"OTHER/NOT CERTIFIED\"\n",
    "statusmap.loc[\"INCOMPLETE\"] = \"OTHER/NOT CERTIFIED\"\n",
    "statusmap.loc[\"DATA REVIEW\"] = \"OTHER/NOT CERTIFIED\"\n",
    "statusmap.loc[\"MODIFICATION\"] = \"OTHER/NOT CERTIFIED\"\n",
    "statusmap.loc[\"NOF ISSUED\"] = \"OTHER/NOT CERTIFIED\"\n",
    "statusmap.loc[\"RECEIVED\"] = \"OTHER/NOT CERTIFIED\"\n",
    "statusmap.loc[\"RECEIVED REGIONAL OFFICE\"] = \"OTHER/NOT CERTIFIED\"\n",
    "statusmap.loc[\"REDUCTION IN RECRUITMENT DENIED\"] = \"OTHER/NOT CERTIFIED\"\n",
    "statusmap.loc[\"REMAND ISSUED TO EMPLOYER\"] = \"OTHER/NOT CERTIFIED\"\n",
    "statusmap.loc[\"REMAND ISSUED TO STATE\"] = \"OTHER/NOT CERTIFIED\"\n",
    "statusmap.loc[\"REMAND TO SWA\"] = \"OTHER/NOT CERTIFIED\"\n",
    "statusmap.loc[\"RETURNED BY EMP AFTER REMAND\"] = \"OTHER/NOT CERTIFIED\""
   ]
  },
  {
   "cell_type": "code",
   "execution_count": 10,
   "metadata": {
    "collapsed": true
   },
   "outputs": [],
   "source": [
    "# mapping these columns in order to change the existing status to the new status\n",
    "\n",
    "visa[\"case_status\"] = visa[\"case_status\"].map(statusmap)"
   ]
  },
  {
   "cell_type": "markdown",
   "metadata": {},
   "source": [
    "Now the data much more organized and condensed for better analysis"
   ]
  },
  {
   "cell_type": "code",
   "execution_count": 11,
   "metadata": {
    "collapsed": false
   },
   "outputs": [
    {
     "data": {
      "text/plain": [
       "CERTIFIED                172675\n",
       "DENIED                    19867\n",
       "PARTIALLY CERTIFIED       14031\n",
       "WITHDRAWN                  3535\n",
       "OTHER/NOT CERTIFIED        1613\n",
       "CERTIFICATION EXPIRED      1434\n",
       "Name: case_status, dtype: int64"
      ]
     },
     "execution_count": 11,
     "metadata": {},
     "output_type": "execute_result"
    }
   ],
   "source": [
    "visa[\"case_status\"].value_counts()"
   ]
  },
  {
   "cell_type": "markdown",
   "metadata": {},
   "source": [
    "After the initial data exploration, we can plot of a few graphs to better understand the data at hand\n",
    "\n",
    "Please note : This is WITHOUT cleaning the data "
   ]
  },
  {
   "cell_type": "markdown",
   "metadata": {},
   "source": [
    "## Initial Visualizations"
   ]
  },
  {
   "cell_type": "code",
   "execution_count": 12,
   "metadata": {
    "collapsed": false
   },
   "outputs": [
    {
     "data": {
      "text/plain": [
       "<matplotlib.axes._subplots.AxesSubplot at 0x24663e48>"
      ]
     },
     "execution_count": 12,
     "metadata": {},
     "output_type": "execute_result"
    },
    {
     "data": {
      "image/png": "[encoded data removed]",
      "text/plain": [
       "<matplotlib.figure.Figure at 0x1a2d2908>"
      ]
     },
     "metadata": {},
     "output_type": "display_data"
    }
   ],
   "source": [
    "fig = plt.figure(figsize=(10,10))\n",
    "\n",
    "# plotting the visa_type column distribution\n",
    "ax1 = fig.add_subplot(2,2,1)\n",
    "visa[\"visa_type\"].value_counts().plot(kind='bar',title=\"Visa types\",color='dodgerblue')\n",
    "\n",
    "# plotting the fiscal year column distribution\n",
    "ax2 = fig.add_subplot(2,2,2)\n",
    "visa[\"fy\"].hist(color='orchid',bins=8)\n",
    "plt.title(\"Fiscal year histogram\")\n",
    "\n",
    "# plotting the organization flag column distribution\n",
    "ax3 = fig.add_subplot(2,2,3)\n",
    "visa[\"organization_flag\"].value_counts().plot(kind='bar',title=\"Organization Flags\",color='coral')\n",
    "\n",
    "# plotting the case status column distribution\n",
    "ax4 = fig.add_subplot(2,2,4)\n",
    "visa[\"case_status\"].value_counts().plot(kind='bar',title=\"Case statuses\",color='mediumseagreen')"
   ]
  },
  {
   "cell_type": "code",
   "execution_count": 13,
   "metadata": {
    "collapsed": false
   },
   "outputs": [
    {
     "data": {
      "text/plain": [
       "<matplotlib.text.Text at 0x24bb0400>"
      ]
     },
     "execution_count": 13,
     "metadata": {},
     "output_type": "execute_result"
    },
    {
     "data": {
      "image/png": "[encoded data removed]",
      "text/plain": [
       "<matplotlib.figure.Figure at 0x249116d8>"
      ]
     },
     "metadata": {},
     "output_type": "display_data"
    }
   ],
   "source": [
    "fig = plt.figure(figsize=(15,5))\n",
    "\n",
    "# making a scatterplot to understand the n_requested column\n",
    "ax1 = fig.add_subplot(1,2,1)\n",
    "plt.scatter(x=visa[\"n_requested\"].index,y=visa[\"n_requested\"].values,color='coral')\n",
    "plt.title(\"People requested per application scatter plot\")\n",
    "\n",
    "# making a scatterplot of the n_certified column\n",
    "ax2 = fig.add_subplot(1,2,2)\n",
    "plt.scatter(x=visa[\"n_certified\"].index,y=visa[\"n_certified\"].values,color='coral')\n",
    "plt.title(\"People certified per application scatter plot\")"
   ]
  },
  {
   "cell_type": "markdown",
   "metadata": {},
   "source": [
    "We can see from above that two significant chunks of data are missing from the 'People requested per application' scatter plot.\n",
    "\n",
    "But it seems to have a similar pattern to the 'People certified per application' scatterplot "
   ]
  },
  {
   "cell_type": "markdown",
   "metadata": {},
   "source": [
    "## Data cleaning"
   ]
  },
  {
   "cell_type": "code",
   "execution_count": 14,
   "metadata": {
    "collapsed": false
   },
   "outputs": [
    {
     "name": "stdout",
     "output_type": "stream",
     "text": [
      "Number of duplicate rows removed\n",
      "152\n"
     ]
    }
   ],
   "source": [
    "# removing duplicates\n",
    "\n",
    "# First removing duplicate rows using drop_duplicates function\n",
    "visa_uni = visa.drop_duplicates()\n",
    "print(\"Number of duplicate rows removed\")\n",
    "print(visa.duplicated().value_counts()[True])"
   ]
  },
  {
   "cell_type": "code",
   "execution_count": 15,
   "metadata": {
    "collapsed": false
   },
   "outputs": [
    {
     "name": "stdout",
     "output_type": "stream",
     "text": [
      "Number of rows being removed\n",
      "28025\n"
     ]
    }
   ],
   "source": [
    "# removing rows where the column \"is_duplicate\" is marked as True\n",
    "# The is_duplicate column value will be True — indicating that this row corresponds a sub-application of a joint employer's \n",
    "# \"master application\"\n",
    "\n",
    "print(\"Number of rows being removed\")\n",
    "print(visa_uni[visa_uni[\"is_duplicate\"] == True].shape[0])\n",
    "\n",
    "visa_uni = visa_uni[visa_uni[\"is_duplicate\"] != True]"
   ]
  },
  {
   "cell_type": "markdown",
   "metadata": {},
   "source": [
    "## Visualizations after the cleaning"
   ]
  },
  {
   "cell_type": "code",
   "execution_count": 16,
   "metadata": {
    "collapsed": false
   },
   "outputs": [
    {
     "data": {
      "text/plain": [
       "<matplotlib.legend.Legend at 0x21385ef0>"
      ]
     },
     "execution_count": 16,
     "metadata": {},
     "output_type": "execute_result"
    },
    {
     "data": {
      "image/png": "[encoded data removed]",
      "text/plain": [
       "<matplotlib.figure.Figure at 0x24d706a0>"
      ]
     },
     "metadata": {},
     "output_type": "display_data"
    }
   ],
   "source": [
    "fig = plt.figure(figsize=(10,10))\n",
    "\n",
    "# visa_type column \n",
    "ax1 = fig.add_subplot(2,2,1)\n",
    "locs_1 = np.arange(2)\n",
    "off_1 = locs_1 + 0.35\n",
    "ax1.bar(left=locs_1,height=visa[\"visa_type\"].value_counts().tolist(),color='mediumslateblue',width=0.35)\n",
    "ax1.bar(left=off_1,height=visa_uni[\"visa_type\"].value_counts().tolist(),color='dodgerblue',width=0.35)\n",
    "ax1.set_xticklabels(visa[\"visa_type\"].value_counts().index.tolist())\n",
    "ax1.set_xticks(off_1)\n",
    "plt.legend((\"Before Cleaning\",\"After Cleaning\"))\n",
    "plt.title(\"Visa_types\")\n",
    "#visa[\"visa_type\"].value_counts().plot(kind='bar',title=\"Visa types\",color='mediumslateblue',alpha=0.5)\n",
    "#visa_uni[\"visa_type\"].value_counts().plot(kind='bar',title=\"Visa types\",color='dodgerblue',alpha=0.5)\n",
    "\n",
    "# fiscal year column\n",
    "ax2 = fig.add_subplot(2,2,2)\n",
    "visa[\"fy\"].hist(color='yellow',bins=8,alpha=0.4)\n",
    "visa_uni[\"fy\"].hist(color='orchid',bins=8,alpha=0.4)\n",
    "plt.title(\"Fiscal year histogram\")\n",
    "plt.legend((\"Before Cleaning\",\"After Cleaning\"))\n",
    "\n",
    "# organization flag column\n",
    "ax3 = fig.add_subplot(2,2,3)\n",
    "visa[\"organization_flag\"].value_counts().plot(kind='bar',title=\"Organization Flags\",color='crimson',alpha=0.5)\n",
    "visa_uni[\"organization_flag\"].value_counts().plot(kind='bar',title=\"Organization Flags\",color='yellow',alpha=0.5)\n",
    "plt.legend((\"Before Cleaning\",\"After Cleaning\"))\n",
    "\n",
    "# case status column\n",
    "ax4 = fig.add_subplot(2,2,4)\n",
    "visa[\"case_status\"].value_counts().plot(kind='bar',title=\"Case statuses\",color='deepskyblue',alpha=0.5)\n",
    "visa_uni[\"case_status\"].value_counts().plot(kind='bar',title=\"Case statuses\",color='mediumseagreen',alpha=0.5)\n",
    "plt.legend((\"Before Cleaning\",\"After Cleaning\"))"
   ]
  },
  {
   "cell_type": "markdown",
   "metadata": {},
   "source": [
    "As we can see, there are a few changes in the graphs after the data has been cleaned\n",
    "\n",
    "There are NO changes in the Organization Flags plot"
   ]
  },
  {
   "cell_type": "markdown",
   "metadata": {},
   "source": [
    "## Goal - How has the number of approved applications changed over time?"
   ]
  },
  {
   "cell_type": "code",
   "execution_count": 17,
   "metadata": {
    "collapsed": false
   },
   "outputs": [
    {
     "data": {
      "text/html": [
       "<div>\n",
       "<table border=\"1\" class=\"dataframe\">\n",
       "  <thead>\n",
       "    <tr style=\"text-align: right;\">\n",
       "      <th>fy</th>\n",
       "      <th>2000</th>\n",
       "      <th>2001</th>\n",
       "      <th>2002</th>\n",
       "      <th>2003</th>\n",
       "      <th>2004</th>\n",
       "      <th>2005</th>\n",
       "      <th>2006</th>\n",
       "      <th>2007</th>\n",
       "      <th>2008</th>\n",
       "      <th>2009</th>\n",
       "      <th>2010</th>\n",
       "      <th>2011</th>\n",
       "      <th>2012</th>\n",
       "      <th>2013</th>\n",
       "      <th>2014</th>\n",
       "      <th>2015</th>\n",
       "      <th>2016</th>\n",
       "    </tr>\n",
       "    <tr>\n",
       "      <th>case_status</th>\n",
       "      <th></th>\n",
       "      <th></th>\n",
       "      <th></th>\n",
       "      <th></th>\n",
       "      <th></th>\n",
       "      <th></th>\n",
       "      <th></th>\n",
       "      <th></th>\n",
       "      <th></th>\n",
       "      <th></th>\n",
       "      <th></th>\n",
       "      <th></th>\n",
       "      <th></th>\n",
       "      <th></th>\n",
       "      <th></th>\n",
       "      <th></th>\n",
       "      <th></th>\n",
       "    </tr>\n",
       "  </thead>\n",
       "  <tbody>\n",
       "    <tr>\n",
       "      <th>CERTIFICATION EXPIRED</th>\n",
       "      <td>NaN</td>\n",
       "      <td>NaN</td>\n",
       "      <td>NaN</td>\n",
       "      <td>NaN</td>\n",
       "      <td>NaN</td>\n",
       "      <td>NaN</td>\n",
       "      <td>NaN</td>\n",
       "      <td>NaN</td>\n",
       "      <td>NaN</td>\n",
       "      <td>NaN</td>\n",
       "      <td>NaN</td>\n",
       "      <td>NaN</td>\n",
       "      <td>NaN</td>\n",
       "      <td>NaN</td>\n",
       "      <td>1299</td>\n",
       "      <td>NaN</td>\n",
       "      <td>77</td>\n",
       "    </tr>\n",
       "    <tr>\n",
       "      <th>CERTIFIED</th>\n",
       "      <td>4180</td>\n",
       "      <td>5799</td>\n",
       "      <td>6044</td>\n",
       "      <td>6876</td>\n",
       "      <td>7530</td>\n",
       "      <td>6350</td>\n",
       "      <td>15684</td>\n",
       "      <td>17468</td>\n",
       "      <td>13964</td>\n",
       "      <td>8714</td>\n",
       "      <td>6360</td>\n",
       "      <td>6842</td>\n",
       "      <td>7500</td>\n",
       "      <td>8627</td>\n",
       "      <td>8987</td>\n",
       "      <td>11495</td>\n",
       "      <td>4282</td>\n",
       "    </tr>\n",
       "    <tr>\n",
       "      <th>DENIED</th>\n",
       "      <td>634</td>\n",
       "      <td>901</td>\n",
       "      <td>1013</td>\n",
       "      <td>1190</td>\n",
       "      <td>1308</td>\n",
       "      <td>771</td>\n",
       "      <td>2255</td>\n",
       "      <td>3963</td>\n",
       "      <td>1090</td>\n",
       "      <td>1389</td>\n",
       "      <td>1062</td>\n",
       "      <td>853</td>\n",
       "      <td>742</td>\n",
       "      <td>678</td>\n",
       "      <td>660</td>\n",
       "      <td>825</td>\n",
       "      <td>411</td>\n",
       "    </tr>\n",
       "    <tr>\n",
       "      <th>OTHER/NOT CERTIFIED</th>\n",
       "      <td>85</td>\n",
       "      <td>123</td>\n",
       "      <td>124</td>\n",
       "      <td>204</td>\n",
       "      <td>458</td>\n",
       "      <td>80</td>\n",
       "      <td>483</td>\n",
       "      <td>54</td>\n",
       "      <td>NaN</td>\n",
       "      <td>2</td>\n",
       "      <td>NaN</td>\n",
       "      <td>NaN</td>\n",
       "      <td>NaN</td>\n",
       "      <td>NaN</td>\n",
       "      <td>NaN</td>\n",
       "      <td>NaN</td>\n",
       "      <td>NaN</td>\n",
       "    </tr>\n",
       "    <tr>\n",
       "      <th>PARTIALLY CERTIFIED</th>\n",
       "      <td>NaN</td>\n",
       "      <td>NaN</td>\n",
       "      <td>NaN</td>\n",
       "      <td>NaN</td>\n",
       "      <td>NaN</td>\n",
       "      <td>NaN</td>\n",
       "      <td>313</td>\n",
       "      <td>820</td>\n",
       "      <td>1536</td>\n",
       "      <td>2012</td>\n",
       "      <td>1445</td>\n",
       "      <td>1549</td>\n",
       "      <td>1341</td>\n",
       "      <td>1069</td>\n",
       "      <td>827</td>\n",
       "      <td>811</td>\n",
       "      <td>532</td>\n",
       "    </tr>\n",
       "    <tr>\n",
       "      <th>WITHDRAWN</th>\n",
       "      <td>14</td>\n",
       "      <td>40</td>\n",
       "      <td>37</td>\n",
       "      <td>46</td>\n",
       "      <td>44</td>\n",
       "      <td>34</td>\n",
       "      <td>NaN</td>\n",
       "      <td>NaN</td>\n",
       "      <td>233</td>\n",
       "      <td>236</td>\n",
       "      <td>99</td>\n",
       "      <td>106</td>\n",
       "      <td>87</td>\n",
       "      <td>308</td>\n",
       "      <td>416</td>\n",
       "      <td>953</td>\n",
       "      <td>634</td>\n",
       "    </tr>\n",
       "  </tbody>\n",
       "</table>\n",
       "</div>"
      ],
      "text/plain": [
       "fy                     2000  2001  2002  2003  2004  2005   2006   2007  \\\n",
       "case_status                                                               \n",
       "CERTIFICATION EXPIRED   NaN   NaN   NaN   NaN   NaN   NaN    NaN    NaN   \n",
       "CERTIFIED              4180  5799  6044  6876  7530  6350  15684  17468   \n",
       "DENIED                  634   901  1013  1190  1308   771   2255   3963   \n",
       "OTHER/NOT CERTIFIED      85   123   124   204   458    80    483     54   \n",
       "PARTIALLY CERTIFIED     NaN   NaN   NaN   NaN   NaN   NaN    313    820   \n",
       "WITHDRAWN                14    40    37    46    44    34    NaN    NaN   \n",
       "\n",
       "fy                      2008  2009  2010  2011  2012  2013  2014   2015  2016  \n",
       "case_status                                                                    \n",
       "CERTIFICATION EXPIRED    NaN   NaN   NaN   NaN   NaN   NaN  1299    NaN    77  \n",
       "CERTIFIED              13964  8714  6360  6842  7500  8627  8987  11495  4282  \n",
       "DENIED                  1090  1389  1062   853   742   678   660    825   411  \n",
       "OTHER/NOT CERTIFIED      NaN     2   NaN   NaN   NaN   NaN   NaN    NaN   NaN  \n",
       "PARTIALLY CERTIFIED     1536  2012  1445  1549  1341  1069   827    811   532  \n",
       "WITHDRAWN                233   236    99   106    87   308   416    953   634  "
      ]
     },
     "execution_count": 17,
     "metadata": {},
     "output_type": "execute_result"
    }
   ],
   "source": [
    "# making a pivot table to get case_status - fiscal year distribution\n",
    "visa_uni.loc[:,\"case_count\"] = 1\n",
    "year_status = visa_uni.pivot_table(values=\"case_count\",index=\"case_status\",columns=\"fy\",aggfunc=np.sum)\n",
    "year_status"
   ]
  },
  {
   "cell_type": "markdown",
   "metadata": {},
   "source": [
    "As we can see above, a lot of values are missing/unavailable/zero, especially for years 2000-2007\n",
    "\n",
    "So we will now plot certified applications from 2006 on"
   ]
  },
  {
   "cell_type": "markdown",
   "metadata": {},
   "source": [
    "#### Plotting different application statuses over time "
   ]
  },
  {
   "cell_type": "code",
   "execution_count": 18,
   "metadata": {
    "collapsed": false
   },
   "outputs": [
    {
     "data": {
      "text/plain": [
       "<matplotlib.text.Text at 0x21667160>"
      ]
     },
     "execution_count": 18,
     "metadata": {},
     "output_type": "execute_result"
    },
    {
     "data": {
      "image/png": "[encoded data removed]",
      "text/plain": [
       "<matplotlib.figure.Figure at 0x2145fd68>"
      ]
     },
     "metadata": {},
     "output_type": "display_data"
    }
   ],
   "source": [
    "fig = plt.figure(figsize=(8,5))\n",
    "ax = fig.add_subplot(1,1,1)\n",
    "ax.set_xticks(year_status.columns)\n",
    "ax.set_xlabel(\"Year\")\n",
    "ax.plot(year_status.loc['CERTIFIED',2006:],linewidth=2)\n",
    "ax.plot(year_status.loc['DENIED',2006:],linewidth=2)\n",
    "ax.plot(year_status.loc['PARTIALLY CERTIFIED',2006:],linewidth=2)\n",
    "ax.plot(year_status.loc['WITHDRAWN',2006:],linewidth=2)\n",
    "plt.legend()\n",
    "plt.title(\"Application statuses over the years\",fontsize=15)"
   ]
  },
  {
   "cell_type": "markdown",
   "metadata": {},
   "source": [
    "Clearly the number of certified applications over the years has shown a decreasing trend in general\n",
    "\n",
    "The number of denied applications seem to be more of less the same over the years, which seems to the case with partial certified and withdrawn applications as well\n",
    "\n",
    "Withdrawn applications seem to have a slight rise in 2016"
   ]
  },
  {
   "cell_type": "markdown",
   "metadata": {},
   "source": [
    "#### Plotting different application statuses over time hued by the visa_type"
   ]
  },
  {
   "cell_type": "code",
   "execution_count": 19,
   "metadata": {
    "collapsed": false
   },
   "outputs": [
    {
     "data": {
      "text/plain": [
       "<matplotlib.text.Text at 0x21b7c5f8>"
      ]
     },
     "execution_count": 19,
     "metadata": {},
     "output_type": "execute_result"
    },
    {
     "data": {
      "image/png": "[encoded data removed]",
      "text/plain": [
       "<matplotlib.figure.Figure at 0x21663eb8>"
      ]
     },
     "metadata": {},
     "output_type": "display_data"
    }
   ],
   "source": [
    "# singling out h2-a and h2b visas separately that are certified\n",
    "h2a_certified = visa_uni[(visa_uni[\"visa_type\"] == \"H-2A\") & (visa_uni[\"case_status\"] == \"CERTIFIED\")][\"fy\"].value_counts()\n",
    "h2b_certified = visa_uni[(visa_uni[\"visa_type\"] == \"H-2B\") & (visa_uni[\"case_status\"] == \"CERTIFIED\")][\"fy\"].value_counts()\n",
    "h2a_certified = h2a_certified.sort_index()\n",
    "h2b_certified = h2b_certified.sort_index()\n",
    "\n",
    "# singling out h2-a and h2b visas separately that are denied\n",
    "h2a_denied = visa_uni[(visa_uni[\"visa_type\"] == \"H-2A\") & (visa_uni[\"case_status\"] == \"DENIED\")][\"fy\"].value_counts()\n",
    "h2b_denied = visa_uni[(visa_uni[\"visa_type\"] == \"H-2B\") & (visa_uni[\"case_status\"] == \"DENIED\")][\"fy\"].value_counts()\n",
    "h2a_denied = h2a_denied.sort_index()\n",
    "h2b_denied = h2b_denied.sort_index()\n",
    "\n",
    "fig = plt.figure(figsize = (15,5))\n",
    "\n",
    "# plotting certified applications graph\n",
    "ax1 = fig.add_subplot(1,2,1)\n",
    "ax1.set_xticks(range(2006,2017))\n",
    "# plotting the numbers from year 2006 on, to keep it uniform since h2_b data has a 2001 row\n",
    "ax1.plot(h2a_certified,label=\"H2-A\",color='indigo',linewidth=2)\n",
    "ax1.plot(h2b_certified.loc[2006:],label=\"H2-B\",color='salmon',linewidth=2)\n",
    "plt.legend()\n",
    "plt.title(\"Certified applications over the years hued by visa type\",fontsize=15)\n",
    "\n",
    "# plotting the denied applications graph\n",
    "ax2 = fig.add_subplot(1,2,2)\n",
    "ax2.set_xticks(range(2006,2017))\n",
    "ax2.plot(h2a_denied,label=\"H2-A\",color='indigo',linewidth=2)\n",
    "ax2.plot(h2b_denied.loc[2006:],label=\"H2-B\",color='salmon',linewidth=2)\n",
    "plt.legend()\n",
    "plt.title(\"Denied applications over the years hued by visa type\",fontsize=15)\n"
   ]
  },
  {
   "cell_type": "markdown",
   "metadata": {},
   "source": [
    "As we can see, when we hue the certified applications by visa type, it shows a slight different trend for each visa type\n",
    "\n",
    "But the general trend remains the same, which is decreasing over the years."
   ]
  },
  {
   "cell_type": "markdown",
   "metadata": {},
   "source": [
    "The denied applications, on the other hand seems to follow an interesting trend.\n",
    "\n",
    "For H2-A applications, the trend seems to be more or less the same over the years\n",
    "For H2-B applications, there seems to be a drastic decline after 2007 and from 2011 until 2016, it seems to be more or less constant.\n",
    "\n",
    "Also, its worth noticing that the number of declined applications seems to be converging for both application types as time goes by and the gap between them has bridged considerably"
   ]
  },
  {
   "cell_type": "markdown",
   "metadata": {},
   "source": [
    "## Goal - How have the number of approved workers changed over time?"
   ]
  },
  {
   "cell_type": "code",
   "execution_count": 20,
   "metadata": {
    "collapsed": false
   },
   "outputs": [
    {
     "data": {
      "text/plain": [
       "fy\n",
       "2000     88588\n",
       "2001    115413\n",
       "2002    121865\n",
       "2003    144361\n",
       "2004    168054\n",
       "2005    134787\n",
       "2006    272289\n",
       "2007    344210\n",
       "2008    344703\n",
       "2009    247891\n",
       "2010    165799\n",
       "2011    160768\n",
       "2012    160695\n",
       "2013    181120\n",
       "2014    210337\n",
       "2015    241490\n",
       "2016    104026\n",
       "Name: n_certified, dtype: int64"
      ]
     },
     "execution_count": 20,
     "metadata": {},
     "output_type": "execute_result"
    }
   ],
   "source": [
    "# making a pivot table to get number of people certified for all the years\n",
    "year_certified = visa_uni.pivot_table(values=\"n_certified\",index=\"fy\",aggfunc=np.sum)\n",
    "year_certified"
   ]
  },
  {
   "cell_type": "code",
   "execution_count": 21,
   "metadata": {
    "collapsed": false
   },
   "outputs": [
    {
     "data": {
      "image/png": "[encoded data removed]",
      "text/plain": [
       "<matplotlib.figure.Figure at 0x24d46630>"
      ]
     },
     "metadata": {},
     "output_type": "display_data"
    }
   ],
   "source": [
    "fig = plt.figure(figsize=(8,6))\n",
    "ax = fig.add_subplot(1,1,1)\n",
    "ax.plot(year_certified)\n",
    "ax.set(xticks = range(2000,2017), xlabel = \"Years\", ylabel = \"Number of workers\")\n",
    "plt.title(\"Number of workers certified over time\",fontsize=15)\n",
    "plt.show()"
   ]
  },
  {
   "cell_type": "markdown",
   "metadata": {},
   "source": [
    "It looks like the number of certified workers reached a peak in about 2007-2008 and then decreased (It could be because of the economic recession)\n",
    "\n",
    "There is another minor peak in 2015 after which it seems to have dropped significanly again in 2016"
   ]
  },
  {
   "cell_type": "markdown",
   "metadata": {},
   "source": [
    "## Goal - Which locations and types of businesses request the most visas and how has this changed over time?"
   ]
  },
  {
   "cell_type": "code",
   "execution_count": 22,
   "metadata": {
    "collapsed": false
   },
   "outputs": [
    {
     "data": {
      "text/plain": [
       "TX    11272\n",
       "LA     8425\n",
       "KY     7811\n",
       "NY     6985\n",
       "FL     5964\n",
       "Name: worksite_state, dtype: int64"
      ]
     },
     "execution_count": 22,
     "metadata": {},
     "output_type": "execute_result"
    }
   ],
   "source": [
    "# exploring the worksite_state column\n",
    "\n",
    "states = visa_uni[\"worksite_state\"].value_counts()\n",
    "states.head()"
   ]
  },
  {
   "cell_type": "code",
   "execution_count": 23,
   "metadata": {
    "collapsed": true
   },
   "outputs": [],
   "source": [
    "# plotting the total number of requests in all the years by state\n",
    "\n",
    "import plotly.plotly as py\n",
    "from plotly.graph_objs import *\n",
    "import plotly.tools as tls"
   ]
  },
  {
   "cell_type": "code",
   "execution_count": 24,
   "metadata": {
    "collapsed": false
   },
   "outputs": [],
   "source": [
    "data = [ dict(\n",
    "        type='choropleth',\n",
    "        locations = states.index,\n",
    "        z = states.values.astype(float),\n",
    "        locationmode = 'USA-states',\n",
    "        marker = dict(\n",
    "            line = dict (\n",
    "                color = 'rgb(255,255,255)',\n",
    "                width = 2\n",
    "            )\n",
    "        ),\n",
    "        colorbar = dict(\n",
    "            title = \"Number of Requests\"\n",
    "        )\n",
    "    ) ]"
   ]
  },
  {
   "cell_type": "code",
   "execution_count": 25,
   "metadata": {
    "collapsed": false
   },
   "outputs": [
    {
     "data": {
      "text/html": [
       "<iframe id=\"igraph\" scrolling=\"no\" style=\"border:none;\" seamless=\"seamless\" src=\"https://plot.ly/~ksathri/2.embed\" height=\"525\" width=\"100%\"></iframe>"
      ],
      "text/plain": [
       "<plotly.tools.PlotlyDisplay object>"
      ]
     },
     "execution_count": 25,
     "metadata": {},
     "output_type": "execute_result"
    }
   ],
   "source": [
    "layout = dict(\n",
    "        title = 'Number of visa requests per state',\n",
    "        geo = dict(\n",
    "            scope='usa',\n",
    "            projection=dict( type='albers usa' ),\n",
    "            showlakes = True,\n",
    "            lakecolor = 'rgb(255, 255, 255)',\n",
    "        ),\n",
    "    )\n",
    "    \n",
    "fig = dict( data=data, layout=layout )\n",
    "\n",
    "url = py.plot( fig, filename='h2map' )\n",
    "tls.embed(url)"
   ]
  },
  {
   "cell_type": "markdown",
   "metadata": {},
   "source": [
    "Please note that github doesn't support ipython rendering for plotly plots, so to view the plotly plots, go to the below link\n",
    "http://nbviewer.jupyter.org/github/chrke/H2VisaAnalysis/blob/master/H2_visa_analysis.ipynb"
   ]
  },
  {
   "cell_type": "markdown",
   "metadata": {},
   "source": [
    "Clearly Texas seems to be the state with highest requests\n",
    "\n",
    "How has this changed over time?"
   ]
  },
  {
   "cell_type": "code",
   "execution_count": 26,
   "metadata": {
    "collapsed": false
   },
   "outputs": [
    {
     "data": {
      "text/html": [
       "<div>\n",
       "<table border=\"1\" class=\"dataframe\">\n",
       "  <thead>\n",
       "    <tr style=\"text-align: right;\">\n",
       "      <th>fy</th>\n",
       "      <th>2007</th>\n",
       "      <th>2008</th>\n",
       "      <th>2009</th>\n",
       "      <th>2010</th>\n",
       "      <th>2011</th>\n",
       "      <th>2012</th>\n",
       "      <th>2013</th>\n",
       "      <th>2014</th>\n",
       "      <th>2015</th>\n",
       "      <th>2016</th>\n",
       "    </tr>\n",
       "    <tr>\n",
       "      <th>worksite_state</th>\n",
       "      <th></th>\n",
       "      <th></th>\n",
       "      <th></th>\n",
       "      <th></th>\n",
       "      <th></th>\n",
       "      <th></th>\n",
       "      <th></th>\n",
       "      <th></th>\n",
       "      <th></th>\n",
       "      <th></th>\n",
       "    </tr>\n",
       "  </thead>\n",
       "  <tbody>\n",
       "    <tr>\n",
       "      <th>AB</th>\n",
       "      <td>NaN</td>\n",
       "      <td>NaN</td>\n",
       "      <td>1</td>\n",
       "      <td>NaN</td>\n",
       "      <td>NaN</td>\n",
       "      <td>NaN</td>\n",
       "      <td>NaN</td>\n",
       "      <td>NaN</td>\n",
       "      <td>NaN</td>\n",
       "      <td>NaN</td>\n",
       "    </tr>\n",
       "    <tr>\n",
       "      <th>AK</th>\n",
       "      <td>32</td>\n",
       "      <td>49</td>\n",
       "      <td>48</td>\n",
       "      <td>49</td>\n",
       "      <td>59</td>\n",
       "      <td>65</td>\n",
       "      <td>67</td>\n",
       "      <td>83</td>\n",
       "      <td>99</td>\n",
       "      <td>28</td>\n",
       "    </tr>\n",
       "    <tr>\n",
       "      <th>AL</th>\n",
       "      <td>198</td>\n",
       "      <td>140</td>\n",
       "      <td>114</td>\n",
       "      <td>68</td>\n",
       "      <td>63</td>\n",
       "      <td>129</td>\n",
       "      <td>103</td>\n",
       "      <td>112</td>\n",
       "      <td>118</td>\n",
       "      <td>53</td>\n",
       "    </tr>\n",
       "    <tr>\n",
       "      <th>AR</th>\n",
       "      <td>252</td>\n",
       "      <td>207</td>\n",
       "      <td>188</td>\n",
       "      <td>154</td>\n",
       "      <td>164</td>\n",
       "      <td>183</td>\n",
       "      <td>196</td>\n",
       "      <td>203</td>\n",
       "      <td>221</td>\n",
       "      <td>85</td>\n",
       "    </tr>\n",
       "    <tr>\n",
       "      <th>AS</th>\n",
       "      <td>NaN</td>\n",
       "      <td>NaN</td>\n",
       "      <td>NaN</td>\n",
       "      <td>NaN</td>\n",
       "      <td>2</td>\n",
       "      <td>NaN</td>\n",
       "      <td>NaN</td>\n",
       "      <td>NaN</td>\n",
       "      <td>NaN</td>\n",
       "      <td>NaN</td>\n",
       "    </tr>\n",
       "  </tbody>\n",
       "</table>\n",
       "</div>"
      ],
      "text/plain": [
       "fy              2007  2008  2009  2010  2011  2012  2013  2014  2015  2016\n",
       "worksite_state                                                            \n",
       "AB               NaN   NaN     1   NaN   NaN   NaN   NaN   NaN   NaN   NaN\n",
       "AK                32    49    48    49    59    65    67    83    99    28\n",
       "AL               198   140   114    68    63   129   103   112   118    53\n",
       "AR               252   207   188   154   164   183   196   203   221    85\n",
       "AS               NaN   NaN   NaN   NaN     2   NaN   NaN   NaN   NaN   NaN"
      ]
     },
     "execution_count": 26,
     "metadata": {},
     "output_type": "execute_result"
    }
   ],
   "source": [
    "year_state = visa_uni.pivot_table(values=\"case_count\",index=\"worksite_state\",columns=\"fy\",aggfunc=np.sum)\n",
    "year_state.head()"
   ]
  },
  {
   "cell_type": "markdown",
   "metadata": {},
   "source": [
    "### Number of requests per state in 2007"
   ]
  },
  {
   "cell_type": "code",
   "execution_count": 27,
   "metadata": {
    "collapsed": false
   },
   "outputs": [],
   "source": [
    "data = [ dict(\n",
    "        type='choropleth',\n",
    "        locations = year_state.index,\n",
    "        z = year_state.loc[:,2007].values.astype(float),\n",
    "        locationmode = 'USA-states',\n",
    "        marker = dict(\n",
    "            line = dict (\n",
    "                color = 'rgb(255,255,255)',\n",
    "                width = 2\n",
    "            )\n",
    "        ),\n",
    "        colorbar = dict(\n",
    "            title = \"Number of Requests is 2007\"\n",
    "        )\n",
    "    ) ]"
   ]
  },
  {
   "cell_type": "code",
   "execution_count": 28,
   "metadata": {
    "collapsed": false
   },
   "outputs": [
    {
     "data": {
      "text/html": [
       "<iframe id=\"igraph\" scrolling=\"no\" style=\"border:none;\" seamless=\"seamless\" src=\"https://plot.ly/~ksathri/4.embed\" height=\"525\" width=\"100%\"></iframe>"
      ],
      "text/plain": [
       "<plotly.tools.PlotlyDisplay object>"
      ]
     },
     "execution_count": 28,
     "metadata": {},
     "output_type": "execute_result"
    }
   ],
   "source": [
    "layout = dict(\n",
    "        title = 'Number of visa requests per state in 2007',\n",
    "        geo = dict(\n",
    "            scope='usa',\n",
    "            projection=dict( type='albers usa' ),\n",
    "            showlakes = True,\n",
    "            lakecolor = 'rgb(255, 255, 255)',\n",
    "        ),\n",
    "    )\n",
    "    \n",
    "fig = dict( data=data, layout=layout )\n",
    "\n",
    "url = py.plot( fig, filename='h2map_2007' )\n",
    "tls.embed(url)"
   ]
  },
  {
   "cell_type": "markdown",
   "metadata": {},
   "source": [
    "Clearly, even in 2007, Texas seems to be the highest requesting state, with Florida, North Carolina appearing to be next major contributors, followed by states like Newyork, California, Colorado, Virginia, Massachussets, Louisiana and Kentucky"
   ]
  },
  {
   "cell_type": "markdown",
   "metadata": {},
   "source": [
    "### Number of requests per state in 2012"
   ]
  },
  {
   "cell_type": "code",
   "execution_count": 29,
   "metadata": {
    "collapsed": true
   },
   "outputs": [],
   "source": [
    "data = [ dict(\n",
    "        type='choropleth',\n",
    "        locations = year_state.index,\n",
    "        z = year_state.loc[:,2012].values.astype(float),\n",
    "        locationmode = 'USA-states',\n",
    "        marker = dict(\n",
    "            line = dict (\n",
    "                color = 'rgb(255,255,255)',\n",
    "                width = 2\n",
    "            )\n",
    "        ),\n",
    "        colorbar = dict(\n",
    "            title = \"Number of Requests is 2012\"\n",
    "        )\n",
    "    ) ]"
   ]
  },
  {
   "cell_type": "code",
   "execution_count": 30,
   "metadata": {
    "collapsed": false
   },
   "outputs": [
    {
     "data": {
      "text/html": [
       "<iframe id=\"igraph\" scrolling=\"no\" style=\"border:none;\" seamless=\"seamless\" src=\"https://plot.ly/~ksathri/6.embed\" height=\"525\" width=\"100%\"></iframe>"
      ],
      "text/plain": [
       "<plotly.tools.PlotlyDisplay object>"
      ]
     },
     "execution_count": 30,
     "metadata": {},
     "output_type": "execute_result"
    }
   ],
   "source": [
    "layout = dict(\n",
    "        title = 'Number of visa requests per state in 2012',\n",
    "        geo = dict(\n",
    "            scope='usa',\n",
    "            projection=dict( type='albers usa' ),\n",
    "            showlakes = True,\n",
    "            lakecolor = 'rgb(255, 255, 255)',\n",
    "        ),\n",
    "    )\n",
    "    \n",
    "fig = dict( data=data, layout=layout )\n",
    "\n",
    "url = py.plot( fig, filename='h2map_2012' )\n",
    "tls.embed(url)"
   ]
  },
  {
   "cell_type": "markdown",
   "metadata": {},
   "source": [
    "In 2012, Texas still seems to be the highest requesting state, with similar number of requests from Louisiana and Kentucky\n",
    "followed by Newyork, Idaho, Massachussets, Colorado and North Dakota"
   ]
  },
  {
   "cell_type": "markdown",
   "metadata": {},
   "source": [
    "### Number of requests per state in 2016"
   ]
  },
  {
   "cell_type": "code",
   "execution_count": 31,
   "metadata": {
    "collapsed": true
   },
   "outputs": [],
   "source": [
    "data = [ dict(\n",
    "        type='choropleth',\n",
    "        locations = year_state.index,\n",
    "        z = year_state.loc[:,2016].values.astype(float),\n",
    "        locationmode = 'USA-states',\n",
    "        marker = dict(\n",
    "            line = dict (\n",
    "                color = 'rgb(255,255,255)',\n",
    "                width = 2\n",
    "            )\n",
    "        ),\n",
    "        colorbar = dict(\n",
    "            title = \"Number of Requests is 2016\"\n",
    "        )\n",
    "    ) ]"
   ]
  },
  {
   "cell_type": "code",
   "execution_count": 32,
   "metadata": {
    "collapsed": false
   },
   "outputs": [
    {
     "data": {
      "text/html": [
       "<iframe id=\"igraph\" scrolling=\"no\" style=\"border:none;\" seamless=\"seamless\" src=\"https://plot.ly/~ksathri/8.embed\" height=\"525\" width=\"100%\"></iframe>"
      ],
      "text/plain": [
       "<plotly.tools.PlotlyDisplay object>"
      ]
     },
     "execution_count": 32,
     "metadata": {},
     "output_type": "execute_result"
    }
   ],
   "source": [
    "layout = dict(\n",
    "        title = 'Number of visa requests per state in 2016',\n",
    "        geo = dict(\n",
    "            scope='usa',\n",
    "            projection=dict( type='albers usa' ),\n",
    "            showlakes = True,\n",
    "            lakecolor = 'rgb(255, 255, 255)',\n",
    "        ),\n",
    "    )\n",
    "    \n",
    "fig = dict( data=data, layout=layout )\n",
    "\n",
    "url = py.plot( fig, filename='h2map_2016' )\n",
    "tls.embed(url)"
   ]
  },
  {
   "cell_type": "markdown",
   "metadata": {},
   "source": [
    "Texas still stands out, followed by Louisiana and Florida (This slightly resembles the total number of requests)\n",
    "followed by Colorado and Newyork"
   ]
  },
  {
   "cell_type": "code",
   "execution_count": 33,
   "metadata": {
    "collapsed": false
   },
   "outputs": [
    {
     "data": {
      "text/html": [
       "<div>\n",
       "<table border=\"1\" class=\"dataframe\">\n",
       "  <thead>\n",
       "    <tr style=\"text-align: right;\">\n",
       "      <th>fy</th>\n",
       "      <th>2008</th>\n",
       "      <th>2009</th>\n",
       "      <th>2010</th>\n",
       "      <th>2011</th>\n",
       "      <th>2012</th>\n",
       "      <th>2013</th>\n",
       "      <th>2014</th>\n",
       "      <th>2015</th>\n",
       "      <th>2016</th>\n",
       "    </tr>\n",
       "    <tr>\n",
       "      <th>organization_flag</th>\n",
       "      <th></th>\n",
       "      <th></th>\n",
       "      <th></th>\n",
       "      <th></th>\n",
       "      <th></th>\n",
       "      <th></th>\n",
       "      <th></th>\n",
       "      <th></th>\n",
       "      <th></th>\n",
       "    </tr>\n",
       "  </thead>\n",
       "  <tbody>\n",
       "    <tr>\n",
       "      <th>A</th>\n",
       "      <td>66</td>\n",
       "      <td>73</td>\n",
       "      <td>65</td>\n",
       "      <td>55</td>\n",
       "      <td>89</td>\n",
       "      <td>6</td>\n",
       "      <td>NaN</td>\n",
       "      <td>NaN</td>\n",
       "      <td>NaN</td>\n",
       "    </tr>\n",
       "    <tr>\n",
       "      <th>Association - Filing as Agent (H-2A Only)</th>\n",
       "      <td>NaN</td>\n",
       "      <td>NaN</td>\n",
       "      <td>NaN</td>\n",
       "      <td>NaN</td>\n",
       "      <td>NaN</td>\n",
       "      <td>1001</td>\n",
       "      <td>1314</td>\n",
       "      <td>1440</td>\n",
       "      <td>145</td>\n",
       "    </tr>\n",
       "    <tr>\n",
       "      <th>Association - Joint Employer (H-2A Only)</th>\n",
       "      <td>NaN</td>\n",
       "      <td>NaN</td>\n",
       "      <td>NaN</td>\n",
       "      <td>NaN</td>\n",
       "      <td>NaN</td>\n",
       "      <td>114</td>\n",
       "      <td>144</td>\n",
       "      <td>194</td>\n",
       "      <td>10</td>\n",
       "    </tr>\n",
       "    <tr>\n",
       "      <th>Association - Sole Employer (H-2A Only)</th>\n",
       "      <td>NaN</td>\n",
       "      <td>NaN</td>\n",
       "      <td>NaN</td>\n",
       "      <td>NaN</td>\n",
       "      <td>NaN</td>\n",
       "      <td>3</td>\n",
       "      <td>6</td>\n",
       "      <td>7</td>\n",
       "      <td>3</td>\n",
       "    </tr>\n",
       "    <tr>\n",
       "      <th>H-2A Labor Contractor or Job Contractor</th>\n",
       "      <td>NaN</td>\n",
       "      <td>NaN</td>\n",
       "      <td>NaN</td>\n",
       "      <td>NaN</td>\n",
       "      <td>NaN</td>\n",
       "      <td>434</td>\n",
       "      <td>660</td>\n",
       "      <td>828</td>\n",
       "      <td>151</td>\n",
       "    </tr>\n",
       "    <tr>\n",
       "      <th>Individual Employer</th>\n",
       "      <td>NaN</td>\n",
       "      <td>NaN</td>\n",
       "      <td>NaN</td>\n",
       "      <td>NaN</td>\n",
       "      <td>NaN</td>\n",
       "      <td>3636</td>\n",
       "      <td>4601</td>\n",
       "      <td>5094</td>\n",
       "      <td>812</td>\n",
       "    </tr>\n",
       "    <tr>\n",
       "      <th>J</th>\n",
       "      <td>273</td>\n",
       "      <td>141</td>\n",
       "      <td>182</td>\n",
       "      <td>118</td>\n",
       "      <td>159</td>\n",
       "      <td>10</td>\n",
       "      <td>NaN</td>\n",
       "      <td>NaN</td>\n",
       "      <td>NaN</td>\n",
       "    </tr>\n",
       "    <tr>\n",
       "      <th>M</th>\n",
       "      <td>57</td>\n",
       "      <td>100</td>\n",
       "      <td>45</td>\n",
       "      <td>NaN</td>\n",
       "      <td>NaN</td>\n",
       "      <td>NaN</td>\n",
       "      <td>NaN</td>\n",
       "      <td>NaN</td>\n",
       "      <td>NaN</td>\n",
       "    </tr>\n",
       "    <tr>\n",
       "      <th>S</th>\n",
       "      <td>5246</td>\n",
       "      <td>4953</td>\n",
       "      <td>4139</td>\n",
       "      <td>4768</td>\n",
       "      <td>5211</td>\n",
       "      <td>768</td>\n",
       "      <td>NaN</td>\n",
       "      <td>NaN</td>\n",
       "      <td>NaN</td>\n",
       "    </tr>\n",
       "  </tbody>\n",
       "</table>\n",
       "</div>"
      ],
      "text/plain": [
       "fy                                         2008  2009  2010  2011  2012  2013  \\\n",
       "organization_flag                                                               \n",
       "A                                            66    73    65    55    89     6   \n",
       "Association - Filing as Agent (H-2A Only)   NaN   NaN   NaN   NaN   NaN  1001   \n",
       "Association - Joint Employer (H-2A Only)    NaN   NaN   NaN   NaN   NaN   114   \n",
       "Association - Sole Employer (H-2A Only)     NaN   NaN   NaN   NaN   NaN     3   \n",
       "H-2A Labor Contractor or Job Contractor     NaN   NaN   NaN   NaN   NaN   434   \n",
       "Individual Employer                         NaN   NaN   NaN   NaN   NaN  3636   \n",
       "J                                           273   141   182   118   159    10   \n",
       "M                                            57   100    45   NaN   NaN   NaN   \n",
       "S                                          5246  4953  4139  4768  5211   768   \n",
       "\n",
       "fy                                         2014  2015  2016  \n",
       "organization_flag                                            \n",
       "A                                           NaN   NaN   NaN  \n",
       "Association - Filing as Agent (H-2A Only)  1314  1440   145  \n",
       "Association - Joint Employer (H-2A Only)    144   194    10  \n",
       "Association - Sole Employer (H-2A Only)       6     7     3  \n",
       "H-2A Labor Contractor or Job Contractor     660   828   151  \n",
       "Individual Employer                        4601  5094   812  \n",
       "J                                           NaN   NaN   NaN  \n",
       "M                                           NaN   NaN   NaN  \n",
       "S                                           NaN   NaN   NaN  "
      ]
     },
     "execution_count": 33,
     "metadata": {},
     "output_type": "execute_result"
    }
   ],
   "source": [
    "org_year = visa_uni.pivot_table(values=\"case_count\",index=\"organization_flag\",columns=\"fy\",aggfunc=np.sum)\n",
    "org_year"
   ]
  },
  {
   "cell_type": "markdown",
   "metadata": {},
   "source": [
    "A lot of data is missing/zero in the above pivot table. For whatever data is available, we can plot the trends lines"
   ]
  },
  {
   "cell_type": "code",
   "execution_count": 34,
   "metadata": {
    "collapsed": false
   },
   "outputs": [
    {
     "data": {
      "image/png": "[encoded data removed]",
      "text/plain": [
       "<matplotlib.figure.Figure at 0x27878710>"
      ]
     },
     "metadata": {},
     "output_type": "display_data"
    }
   ],
   "source": [
    "fig = plt.figure(figsize=(16,6))\n",
    "ax = fig.add_subplot(1,1,1)\n",
    "ax.set(xticklabels=range(2000,2017),xlabel=\"Years\")\n",
    "for ind in org_year.index:\n",
    "    org_year.loc[ind,:].plot(kind='line')\n",
    "plt.title(\"Type of organization and change over the years\",fontsize=15)\n",
    "plt.legend()\n",
    "plt.show()"
   ]
  },
  {
   "cell_type": "markdown",
   "metadata": {},
   "source": [
    "## Goal - Which positions are the most frequently requested for these visas?"
   ]
  },
  {
   "cell_type": "code",
   "execution_count": 35,
   "metadata": {
    "collapsed": false
   },
   "outputs": [
    {
     "data": {
      "text/plain": [
       "LABORER, LANDSCAPE       24595\n",
       "CLEANER, HOUSEKEEPING     6560\n",
       "LANDSCAPE LABORER         4942\n",
       "STABLE ATTENDANT          4191\n",
       "KITCHEN HELPER            2918\n",
       "Name: job_title, dtype: int64"
      ]
     },
     "execution_count": 35,
     "metadata": {},
     "output_type": "execute_result"
    }
   ],
   "source": [
    "visa_uni[\"job_title\"].value_counts().head()"
   ]
  },
  {
   "cell_type": "markdown",
   "metadata": {},
   "source": [
    "After researching a bit, I came to the conclusion that trying to organize the job titles into categories isn't an easy task.\n",
    "So I decided to go into it later. For now, I will work on the top 30 job titles"
   ]
  },
  {
   "cell_type": "code",
   "execution_count": 36,
   "metadata": {
    "collapsed": false
   },
   "outputs": [
    {
     "data": {
      "text/plain": [
       "LABORER, LANDSCAPE                      24595\n",
       "CLEANER, HOUSEKEEPING                    6560\n",
       "LANDSCAPE LABORER                        4942\n",
       "STABLE ATTENDANT                         4191\n",
       "KITCHEN HELPER                           2918\n",
       "FARMWORKER, DIVERSIFIED CROP             2753\n",
       "FARMWORKERS AND LABORERS, CROP           2710\n",
       "CONSTRUCTION WORKER I                    2650\n",
       "CONSTRUCTION WORKER II                   2472\n",
       "GROUNDSKEEPER, INDUSTRIAL COMMERCIAL     2457\n",
       "COOK                                     2213\n",
       "FARMWORKER                               2154\n",
       "FARM WORKERS & LABORERS, CROP            2078\n",
       "DINING ROOM ATTENDANT                    2060\n",
       "SHEEP HERDER                             2048\n",
       "HOUSEKEEPER                              1905\n",
       "FARM WORKER                              1633\n",
       "AGRICULTURAL EQUIPMENT OPERATOR          1529\n",
       "NONFARM ANIMAL CARETAKERS                1447\n",
       "SHEEPHERDER                              1422\n",
       "FOREST WORKER                            1345\n",
       "HORTICULTURAL WORKER II                  1285\n",
       "FARM WORKER; DIVERSIFIED CROPS II        1273\n",
       "FARM LABOR                               1270\n",
       "INSTRUCTOR, SPORTS                       1080\n",
       "DECKHAND, FISHING VESSEL                  947\n",
       "FARMWORKERS, FARM AND RANCH ANIMALS       941\n",
       "WAITER/WAITRESS, INFORMAL                 906\n",
       "FARM MACHINE OPERATOR                     903\n",
       "ANIMAL CARETAKER                          896\n",
       "Name: job_title, dtype: int64"
      ]
     },
     "execution_count": 36,
     "metadata": {},
     "output_type": "execute_result"
    }
   ],
   "source": [
    "top_30 = visa_uni[\"job_title\"].value_counts().head(30)\n",
    "top_30"
   ]
  },
  {
   "cell_type": "markdown",
   "metadata": {},
   "source": [
    "As we can see, a lot of titles are repeated, lets try and concise it further"
   ]
  },
  {
   "cell_type": "code",
   "execution_count": 37,
   "metadata": {
    "collapsed": false
   },
   "outputs": [],
   "source": [
    "farm_list = [\"FARMWORKER, DIVERSIFIED CROP\",\"FARMWORKERS AND LABORERS, CROP\",\"FARMWORKER\",\"FARM WORKERS & LABORERS, CROP\",\n",
    "             \"FARM WORKER\",\"FARM WORKER; DIVERSIFIED CROPS II\",\"FARM LABOR\",\"FARMWORKERS, FARM AND RANCH ANIMALS\"]\n",
    "landscape_list = [\"LABORER, LANDSCAPE\",\"LANDSCAPE LABORER\"]\n",
    "housekeeping_list = [\"CLEANER, HOUSEKEEPING\",\"HOUSEKEEPER\"]\n",
    "construction_list = [\"CONSTRUCTION WORKER I\",\"CONSTRUCTION WORKER II\"]\n",
    "\n",
    "new_index = []\n",
    "for ind in top_30.index:\n",
    "    if ind in farm_list:\n",
    "        ind = \"FARM WORKER\"\n",
    "    if ind in landscape_list:\n",
    "        ind = \"LANDSCAPE LABORER\"\n",
    "    if ind in housekeeping_list:\n",
    "        ind = \"HOUSEKEEPING\"\n",
    "    if ind in construction_list:\n",
    "        ind = \"CONSRUCTION WORKER\"\n",
    "    else:\n",
    "        pass\n",
    "    new_index.append(ind)\n",
    "top_30.index = new_index"
   ]
  },
  {
   "cell_type": "code",
   "execution_count": 38,
   "metadata": {
    "collapsed": false
   },
   "outputs": [
    {
     "data": {
      "text/plain": [
       "LANDSCAPE LABORER                       24595\n",
       "HOUSEKEEPING                             6560\n",
       "LANDSCAPE LABORER                        4942\n",
       "STABLE ATTENDANT                         4191\n",
       "KITCHEN HELPER                           2918\n",
       "FARM WORKER                              2753\n",
       "FARM WORKER                              2710\n",
       "CONSRUCTION WORKER                       2650\n",
       "CONSRUCTION WORKER                       2472\n",
       "GROUNDSKEEPER, INDUSTRIAL COMMERCIAL     2457\n",
       "COOK                                     2213\n",
       "FARM WORKER                              2154\n",
       "FARM WORKER                              2078\n",
       "DINING ROOM ATTENDANT                    2060\n",
       "SHEEP HERDER                             2048\n",
       "HOUSEKEEPING                             1905\n",
       "FARM WORKER                              1633\n",
       "AGRICULTURAL EQUIPMENT OPERATOR          1529\n",
       "NONFARM ANIMAL CARETAKERS                1447\n",
       "SHEEPHERDER                              1422\n",
       "FOREST WORKER                            1345\n",
       "HORTICULTURAL WORKER II                  1285\n",
       "FARM WORKER                              1273\n",
       "FARM WORKER                              1270\n",
       "INSTRUCTOR, SPORTS                       1080\n",
       "DECKHAND, FISHING VESSEL                  947\n",
       "FARM WORKER                               941\n",
       "WAITER/WAITRESS, INFORMAL                 906\n",
       "FARM MACHINE OPERATOR                     903\n",
       "ANIMAL CARETAKER                          896\n",
       "Name: job_title, dtype: int64"
      ]
     },
     "execution_count": 38,
     "metadata": {},
     "output_type": "execute_result"
    }
   ],
   "source": [
    "top_30"
   ]
  },
  {
   "cell_type": "code",
   "execution_count": 39,
   "metadata": {
    "collapsed": false
   },
   "outputs": [
    {
     "data": {
      "text/html": [
       "<div>\n",
       "<table border=\"1\" class=\"dataframe\">\n",
       "  <thead>\n",
       "    <tr style=\"text-align: right;\">\n",
       "      <th></th>\n",
       "      <th>Job title</th>\n",
       "      <th>Count</th>\n",
       "    </tr>\n",
       "  </thead>\n",
       "  <tbody>\n",
       "    <tr>\n",
       "      <th>0</th>\n",
       "      <td>LANDSCAPE LABORER</td>\n",
       "      <td>24595</td>\n",
       "    </tr>\n",
       "    <tr>\n",
       "      <th>1</th>\n",
       "      <td>HOUSEKEEPING</td>\n",
       "      <td>6560</td>\n",
       "    </tr>\n",
       "    <tr>\n",
       "      <th>2</th>\n",
       "      <td>LANDSCAPE LABORER</td>\n",
       "      <td>4942</td>\n",
       "    </tr>\n",
       "    <tr>\n",
       "      <th>3</th>\n",
       "      <td>STABLE ATTENDANT</td>\n",
       "      <td>4191</td>\n",
       "    </tr>\n",
       "    <tr>\n",
       "      <th>4</th>\n",
       "      <td>KITCHEN HELPER</td>\n",
       "      <td>2918</td>\n",
       "    </tr>\n",
       "  </tbody>\n",
       "</table>\n",
       "</div>"
      ],
      "text/plain": [
       "           Job title  Count\n",
       "0  LANDSCAPE LABORER  24595\n",
       "1       HOUSEKEEPING   6560\n",
       "2  LANDSCAPE LABORER   4942\n",
       "3   STABLE ATTENDANT   4191\n",
       "4     KITCHEN HELPER   2918"
      ]
     },
     "execution_count": 39,
     "metadata": {},
     "output_type": "execute_result"
    }
   ],
   "source": [
    "top_df = pd.DataFrame(data=top_30).reset_index()\n",
    "top_df.columns= [\"Job title\",\"Count\"]\n",
    "top_df.head()"
   ]
  },
  {
   "cell_type": "code",
   "execution_count": 40,
   "metadata": {
    "collapsed": false
   },
   "outputs": [
    {
     "data": {
      "text/plain": [
       "Job title\n",
       "ANIMAL CARETAKER                          896\n",
       "FARM MACHINE OPERATOR                     903\n",
       "WAITER/WAITRESS, INFORMAL                 906\n",
       "DECKHAND, FISHING VESSEL                  947\n",
       "INSTRUCTOR, SPORTS                       1080\n",
       "HORTICULTURAL WORKER II                  1285\n",
       "FOREST WORKER                            1345\n",
       "SHEEPHERDER                              1422\n",
       "NONFARM ANIMAL CARETAKERS                1447\n",
       "AGRICULTURAL EQUIPMENT OPERATOR          1529\n",
       "SHEEP HERDER                             2048\n",
       "DINING ROOM ATTENDANT                    2060\n",
       "COOK                                     2213\n",
       "GROUNDSKEEPER, INDUSTRIAL COMMERCIAL     2457\n",
       "KITCHEN HELPER                           2918\n",
       "STABLE ATTENDANT                         4191\n",
       "CONSRUCTION WORKER                       5122\n",
       "HOUSEKEEPING                             8465\n",
       "FARM WORKER                             14812\n",
       "LANDSCAPE LABORER                       29537\n",
       "Name: Count, dtype: int64"
      ]
     },
     "execution_count": 40,
     "metadata": {},
     "output_type": "execute_result"
    }
   ],
   "source": [
    "top_requests = top_df.pivot_table(values=\"Count\",aggfunc=np.sum,index=\"Job title\").sort_values()\n",
    "top_requests"
   ]
  },
  {
   "cell_type": "code",
   "execution_count": 41,
   "metadata": {
    "collapsed": false
   },
   "outputs": [
    {
     "data": {
      "image/png": "[encoded data removed]",
      "text/plain": [
       "<matplotlib.figure.Figure at 0x27fe92b0>"
      ]
     },
     "metadata": {},
     "output_type": "display_data"
    }
   ],
   "source": [
    "fig = plt.figure(figsize=(10,6))\n",
    "top_requests.plot(kind=\"bar\",color='salmon')\n",
    "plt.title(\"Frequently requested jobs\")\n",
    "plt.show()"
   ]
  },
  {
   "cell_type": "markdown",
   "metadata": {},
   "source": [
    "This obviously is not a very good way of doing it. More work to be done on categorizing these job titles"
   ]
  },
  {
   "cell_type": "markdown",
   "metadata": {},
   "source": [
    "## Goal - Is there a correlation between the length of the period the employee is expected to work for and the final decision?"
   ]
  },
  {
   "cell_type": "code",
   "execution_count": 42,
   "metadata": {
    "collapsed": false
   },
   "outputs": [
    {
     "name": "stdout",
     "output_type": "stream",
     "text": [
      "---Certification begin date missing---\n",
      "\n",
      "visa_type  H-2A   H-2B\n",
      "fy                    \n",
      "2000        NaN   4913\n",
      "2001        NaN   6863\n",
      "2002        NaN   7218\n",
      "2003        NaN   8316\n",
      "2004        NaN   9340\n",
      "2005        NaN   7235\n",
      "2006        653  11267\n",
      "2007          2     11\n",
      "2008        399      2\n",
      "2009        404    NaN\n",
      "2010        352      5\n",
      "2011        356      6\n",
      "2012        181      4\n",
      "2013         64      1\n",
      "2014          2      4\n",
      "2015          7      5\n",
      "2016          1      5\n",
      "\n",
      "\n",
      "---Certification end date missing ---\n",
      "\n",
      "visa_type  H-2A   H-2B\n",
      "fy                    \n",
      "2000        NaN   4913\n",
      "2001        NaN   6863\n",
      "2002        NaN   7218\n",
      "2003        NaN   8316\n",
      "2004        NaN   9340\n",
      "2005        NaN   7235\n",
      "2006        653  11267\n",
      "2007          2     12\n",
      "2008        399      1\n",
      "2009        404    NaN\n",
      "2010        352      7\n",
      "2011        356      6\n",
      "2012        181      5\n",
      "2013         64      2\n",
      "2014          3      7\n",
      "2015          6      5\n",
      "2016          1      3\n"
     ]
    }
   ],
   "source": [
    "# According to the documentation, \"Certification begin and end dates are unavailable for H-2B data prior to FY2007\"\n",
    "# lets explore the values and see if that is true\n",
    "\n",
    "# how many rows have certification begin and end date missing and what is their distribution by visa_type and year\n",
    "\n",
    "print(\"---Certification begin date missing---\\n\")\n",
    "print(visa_uni[pd.isnull(visa_uni[\"certification_begin_date\"])].pivot_table(values=\"case_count\",index=\"fy\",columns='visa_type'\n",
    "                                                                      ,aggfunc=np.sum))\n",
    "\n",
    "print(\"\\n\\n---Certification end date missing ---\\n\")\n",
    "print(visa_uni[pd.isnull(visa_uni[\"certification_end_date\"])].pivot_table(values=\"case_count\",index=\"fy\",columns='visa_type'\n",
    "                                                                      ,aggfunc=np.sum))\n"
   ]
  },
  {
   "cell_type": "markdown",
   "metadata": {},
   "source": [
    "On a cursory look, we can see that a lot of these missing values belong to H2B and from years older than 2007\n",
    "\n",
    "But we can also see that a significant number of values are missing from H-2A visa type from years 2008 and later. \n",
    "It also looks like these rows are missing both the begin date and end date as a pair.\n",
    "\n",
    "Let's calculate the certification period using the certification begin and end dates and see if we can fill the gaps with a logically derived value."
   ]
  },
  {
   "cell_type": "code",
   "execution_count": 43,
   "metadata": {
    "collapsed": false
   },
   "outputs": [],
   "source": [
    "# first converting these columns to datetime type\n",
    "\n",
    "visa_uni[\"certification_begin_date\"] = pd.to_datetime(visa_uni[\"certification_begin_date\"])\n",
    "visa_uni[\"certification_end_date\"] = pd.to_datetime(visa_uni[\"certification_end_date\"])\n",
    "\n",
    "# adding a column \"certification_period\" to specity how long the employee was expected to work for \n",
    "# note here, that the subtraction will yield an value which is of the TimeDelta datatype, which is of the format - (days, hours,\n",
    "# mins, seconds). We can extract only the number of days from that and convert it to an integer\n",
    "\n",
    "visa_uni.loc[:,\"certification_period\"] = visa_uni[\"certification_end_date\"] - visa_uni[\"certification_begin_date\"]\n",
    "\n",
    "\n",
    "#function to extract the days\n",
    "def extract_days(x):\n",
    "    try:\n",
    "        return pd.to_timedelta(x).days\n",
    "    except:\n",
    "        return np.nan\n",
    "\n",
    "# applying the function\n",
    "visa_uni.loc[:,\"certification_period\"] = visa_uni[\"certification_period\"].apply(extract_days)\n",
    "\n",
    "# also making a column called status code with certified and partially certified rows marked as - 1 (certified) \n",
    "# and the rest as 0 (not certified)\n",
    "visa_uni.loc[:,\"status_code\"] = visa_uni[\"case_status\"].map({\"CERTIFIED\":1,\"PARTIALLY CERTIFIED\":1,\"DENIED\":0,\"WITHDRAWN\":0,\n",
    "                                                    \"CERTIFICATION EXPIRED\":0,\"OTHER/NOT CERTIFIED\":0})"
   ]
  },
  {
   "cell_type": "code",
   "execution_count": 44,
   "metadata": {
    "collapsed": false
   },
   "outputs": [
    {
     "name": "stdout",
     "output_type": "stream",
     "text": [
      "count    127350.000000\n",
      "mean        244.279529\n",
      "std         145.580964\n",
      "min      -25265.000000\n",
      "25%         204.000000\n",
      "50%         258.000000\n",
      "75%         299.000000\n",
      "max       33069.000000\n",
      "Name: certification_period, dtype: float64\n"
     ]
    },
    {
     "data": {
      "text/plain": [
       "<matplotlib.collections.PathCollection at 0x27688550>"
      ]
     },
     "execution_count": 44,
     "metadata": {},
     "output_type": "execute_result"
    },
    {
     "data": {
      "image/png": "[encoded data removed]",
      "text/plain": [
       "<matplotlib.figure.Figure at 0x278e00b8>"
      ]
     },
     "metadata": {},
     "output_type": "display_data"
    }
   ],
   "source": [
    "# lets check the summary statistics and scatter plot for certification period to see if there are any outliers\n",
    "\n",
    "print(visa_uni[\"certification_period\"].describe())\n",
    "plt.scatter(x=visa_uni.index,y=visa_uni[\"certification_period\"].values)"
   ]
  },
  {
   "cell_type": "markdown",
   "metadata": {},
   "source": [
    "Clearly there are outliers, and also some negative values. Now, negative values aren't right, because we calculated the period between the end and the start dates. Checking the the number of rows with negative values"
   ]
  },
  {
   "cell_type": "code",
   "execution_count": 45,
   "metadata": {
    "collapsed": false
   },
   "outputs": [
    {
     "name": "stdout",
     "output_type": "stream",
     "text": [
      "--Number of rows having negative certification periods--\n",
      "\n",
      "52\n",
      "\n",
      "--Number of rows with abnormally large certification periods--\n",
      "\n",
      "55\n"
     ]
    }
   ],
   "source": [
    "print(\"--Number of rows having negative certification periods--\\n\")\n",
    "print(len(visa_uni[visa_uni[\"certification_period\"] < 0 ]))\n",
    "\n",
    "print(\"\\n--Number of rows with abnormally large certification periods--\\n\")\n",
    "print(len(visa_uni[visa_uni[\"certification_period\"] > 1100 ]))\n",
    "# capping the maximum at 1100 days"
   ]
  },
  {
   "cell_type": "code",
   "execution_count": 46,
   "metadata": {
    "collapsed": false
   },
   "outputs": [
    {
     "data": {
      "text/plain": [
       "<matplotlib.axes._subplots.AxesSubplot at 0x2762cf28>"
      ]
     },
     "execution_count": 46,
     "metadata": {},
     "output_type": "execute_result"
    },
    {
     "data": {
      "image/png": "[encoded data removed]",
      "text/plain": [
       "<matplotlib.figure.Figure at 0x27643438>"
      ]
     },
     "metadata": {},
     "output_type": "display_data"
    }
   ],
   "source": [
    "# deleting these rows as well as all the null value rows \n",
    "\n",
    "cert_df = visa_uni[(visa_uni[\"certification_period\"] > 0 ) & (visa_uni[\"certification_period\"] < 1100)]\n",
    "cert_df[\"certification_period\"].hist()"
   ]
  },
  {
   "cell_type": "code",
   "execution_count": null,
   "metadata": {
    "collapsed": false
   },
   "outputs": [],
   "source": [
    "sns.lmplot(\"certification_period\",\"status_code\",cert_df)\n",
    "\n",
    "sns.lmplot(\"certification_period\",\"status_code\",cert_df,hue=\"visa_type\")"
   ]
  },
  {
   "cell_type": "markdown",
   "metadata": {},
   "source": [
    "*Insights*\n",
    "\n",
    "1) We can clearly see a downward trend, with very little standard deviation. This goes to signify that as the certification period increases, there is higher possibility of the request being rejected rather than being certified\n",
    "\n",
    "2) When we see it hued by the visa type, H-2A and H-2B visa types have opposite trends with respect to the certification period. H-2A visas seem to have a positive correlation with the certification period signifying that as the certification period increases, there is a higher chance of the visa being certified\n",
    "\n",
    "3) H-2B visas have a negative correlation, signifying that as the certification period increases, there are lesser chances of the visa being certified"
   ]
  },
  {
   "cell_type": "code",
   "execution_count": null,
   "metadata": {
    "collapsed": true
   },
   "outputs": [],
   "source": []
  }
 ],
 "metadata": {
  "kernelspec": {
   "display_name": "Python 2",
   "language": "python",
   "name": "python2"
  },
  "language_info": {
   "codemirror_mode": {
    "name": "ipython",
    "version": 2
   },
   "file_extension": ".py",
   "mimetype": "text/x-python",
   "name": "python",
   "nbconvert_exporter": "python",
   "pygments_lexer": "ipython2",
   "version": "2.7.11"
  }
 },
 "nbformat": 4,
 "nbformat_minor": 0
}
